{
 "cells": [
  {
   "cell_type": "code",
   "execution_count": 405,
   "id": "ca6b4bf5-5f07-431e-ad7f-f46d018524de",
   "metadata": {
    "id": "ca6b4bf5-5f07-431e-ad7f-f46d018524de"
   },
   "outputs": [],
   "source": [
    "import pandas as pd\n",
    "import numpy as np\n",
    "import matplotlib.pyplot as plt\n",
    "import seaborn as sns"
   ]
  },
  {
   "cell_type": "code",
   "execution_count": 406,
   "id": "2c8a949f-4438-4611-ad26-55572ff9f3cc",
   "metadata": {
    "id": "2c8a949f-4438-4611-ad26-55572ff9f3cc"
   },
   "outputs": [],
   "source": [
    "df = pd.read_csv('satis.csv')"
   ]
  },
  {
   "cell_type": "code",
   "execution_count": 407,
   "id": "c31b45dd-1e63-46a6-a363-1b153cfddf25",
   "metadata": {
    "colab": {
     "base_uri": "https://localhost:8080/",
     "height": 206
    },
    "id": "c31b45dd-1e63-46a6-a363-1b153cfddf25",
    "outputId": "2440a3d2-cc42-44ae-df47-ba38cb6235b6"
   },
   "outputs": [
    {
     "data": {
      "text/html": [
       "<div>\n",
       "<style scoped>\n",
       "    .dataframe tbody tr th:only-of-type {\n",
       "        vertical-align: middle;\n",
       "    }\n",
       "\n",
       "    .dataframe tbody tr th {\n",
       "        vertical-align: top;\n",
       "    }\n",
       "\n",
       "    .dataframe thead th {\n",
       "        text-align: right;\n",
       "    }\n",
       "</style>\n",
       "<table border=\"1\" class=\"dataframe\">\n",
       "  <thead>\n",
       "    <tr style=\"text-align: right;\">\n",
       "      <th></th>\n",
       "      <th>Tarix</th>\n",
       "      <th>Mağaza</th>\n",
       "      <th>Kart_nomresi</th>\n",
       "      <th>Transaksiya_id</th>\n",
       "      <th>Məhsul_nomresi</th>\n",
       "      <th>Məhsul_adi</th>\n",
       "      <th>Məhsul sayi</th>\n",
       "      <th>Ümumi satış</th>\n",
       "    </tr>\n",
       "  </thead>\n",
       "  <tbody>\n",
       "    <tr>\n",
       "      <th>0</th>\n",
       "      <td>43390</td>\n",
       "      <td>1</td>\n",
       "      <td>1000</td>\n",
       "      <td>1</td>\n",
       "      <td>5</td>\n",
       "      <td>Natural Chip        Compny SeaSalt175g</td>\n",
       "      <td>2</td>\n",
       "      <td>6.0</td>\n",
       "    </tr>\n",
       "    <tr>\n",
       "      <th>1</th>\n",
       "      <td>43599</td>\n",
       "      <td>1</td>\n",
       "      <td>1307</td>\n",
       "      <td>348</td>\n",
       "      <td>66</td>\n",
       "      <td>CCs Nacho Cheese    175g</td>\n",
       "      <td>3</td>\n",
       "      <td>6.3</td>\n",
       "    </tr>\n",
       "    <tr>\n",
       "      <th>2</th>\n",
       "      <td>43605</td>\n",
       "      <td>1</td>\n",
       "      <td>1343</td>\n",
       "      <td>383</td>\n",
       "      <td>61</td>\n",
       "      <td>Smiths Crinkle Cut  Chips Chicken 170g</td>\n",
       "      <td>2</td>\n",
       "      <td>2.9</td>\n",
       "    </tr>\n",
       "    <tr>\n",
       "      <th>3</th>\n",
       "      <td>43329</td>\n",
       "      <td>2</td>\n",
       "      <td>2373</td>\n",
       "      <td>974</td>\n",
       "      <td>69</td>\n",
       "      <td>Smiths Chip Thinly  S/Cream&amp;Onion 175g</td>\n",
       "      <td>5</td>\n",
       "      <td>15.0</td>\n",
       "    </tr>\n",
       "    <tr>\n",
       "      <th>4</th>\n",
       "      <td>43330</td>\n",
       "      <td>2</td>\n",
       "      <td>2426</td>\n",
       "      <td>1038</td>\n",
       "      <td>108</td>\n",
       "      <td>Kettle Tortilla ChpsHny&amp;Jlpno Chili 150g</td>\n",
       "      <td>3</td>\n",
       "      <td>13.8</td>\n",
       "    </tr>\n",
       "  </tbody>\n",
       "</table>\n",
       "</div>"
      ],
      "text/plain": [
       "   Tarix  Mağaza  Kart_nomresi  Transaksiya_id  Məhsul_nomresi  \\\n",
       "0  43390       1          1000               1               5   \n",
       "1  43599       1          1307             348              66   \n",
       "2  43605       1          1343             383              61   \n",
       "3  43329       2          2373             974              69   \n",
       "4  43330       2          2426            1038             108   \n",
       "\n",
       "                                 Məhsul_adi  Məhsul sayi  Ümumi satış  \n",
       "0    Natural Chip        Compny SeaSalt175g            2          6.0  \n",
       "1                  CCs Nacho Cheese    175g            3          6.3  \n",
       "2    Smiths Crinkle Cut  Chips Chicken 170g            2          2.9  \n",
       "3    Smiths Chip Thinly  S/Cream&Onion 175g            5         15.0  \n",
       "4  Kettle Tortilla ChpsHny&Jlpno Chili 150g            3         13.8  "
      ]
     },
     "execution_count": 407,
     "metadata": {},
     "output_type": "execute_result"
    }
   ],
   "source": [
    "df.head()"
   ]
  },
  {
   "cell_type": "code",
   "execution_count": 408,
   "id": "c489ebd6-1623-43be-b89d-e6f081012c6d",
   "metadata": {
    "colab": {
     "base_uri": "https://localhost:8080/"
    },
    "id": "c489ebd6-1623-43be-b89d-e6f081012c6d",
    "outputId": "b8448e84-e281-4eb7-91e5-bc97e99befc4"
   },
   "outputs": [
    {
     "data": {
      "text/plain": [
       "(264836, 8)"
      ]
     },
     "execution_count": 408,
     "metadata": {},
     "output_type": "execute_result"
    }
   ],
   "source": [
    "df.shape"
   ]
  },
  {
   "cell_type": "code",
   "execution_count": 409,
   "id": "8b6c7af8-ce27-4d83-93b7-e31fc4ddfe9e",
   "metadata": {
    "colab": {
     "base_uri": "https://localhost:8080/"
    },
    "id": "8b6c7af8-ce27-4d83-93b7-e31fc4ddfe9e",
    "outputId": "f390ae33-215b-48f7-9a13-3586e6de92b0"
   },
   "outputs": [
    {
     "data": {
      "text/plain": [
       "Index(['tarix', 'mağaza', 'kart_nomresi', 'transaksiya_id', 'məhsul_nomresi',\n",
       "       'məhsul_adi', 'məhsul sayi', 'ümumi satış'],\n",
       "      dtype='object')"
      ]
     },
     "execution_count": 409,
     "metadata": {},
     "output_type": "execute_result"
    }
   ],
   "source": [
    "df.columns=df.columns.str.lower()\n",
    "df.columns"
   ]
  },
  {
   "cell_type": "code",
   "execution_count": 410,
   "id": "4a766fae-f9a1-4c32-a2b3-1bb97fe1e5d7",
   "metadata": {
    "colab": {
     "base_uri": "https://localhost:8080/",
     "height": 300
    },
    "id": "4a766fae-f9a1-4c32-a2b3-1bb97fe1e5d7",
    "outputId": "1824139e-bb5b-4565-a3fe-693aecfb3ece"
   },
   "outputs": [
    {
     "data": {
      "text/html": [
       "<div>\n",
       "<style scoped>\n",
       "    .dataframe tbody tr th:only-of-type {\n",
       "        vertical-align: middle;\n",
       "    }\n",
       "\n",
       "    .dataframe tbody tr th {\n",
       "        vertical-align: top;\n",
       "    }\n",
       "\n",
       "    .dataframe thead th {\n",
       "        text-align: right;\n",
       "    }\n",
       "</style>\n",
       "<table border=\"1\" class=\"dataframe\">\n",
       "  <thead>\n",
       "    <tr style=\"text-align: right;\">\n",
       "      <th></th>\n",
       "      <th>dtype</th>\n",
       "      <th>nunique_val</th>\n",
       "      <th>null_sum</th>\n",
       "    </tr>\n",
       "  </thead>\n",
       "  <tbody>\n",
       "    <tr>\n",
       "      <th>tarix</th>\n",
       "      <td>int64</td>\n",
       "      <td>364</td>\n",
       "      <td>0</td>\n",
       "    </tr>\n",
       "    <tr>\n",
       "      <th>mağaza</th>\n",
       "      <td>int64</td>\n",
       "      <td>272</td>\n",
       "      <td>0</td>\n",
       "    </tr>\n",
       "    <tr>\n",
       "      <th>kart_nomresi</th>\n",
       "      <td>int64</td>\n",
       "      <td>72637</td>\n",
       "      <td>0</td>\n",
       "    </tr>\n",
       "    <tr>\n",
       "      <th>transaksiya_id</th>\n",
       "      <td>int64</td>\n",
       "      <td>263127</td>\n",
       "      <td>0</td>\n",
       "    </tr>\n",
       "    <tr>\n",
       "      <th>məhsul_nomresi</th>\n",
       "      <td>int64</td>\n",
       "      <td>114</td>\n",
       "      <td>0</td>\n",
       "    </tr>\n",
       "    <tr>\n",
       "      <th>məhsul_adi</th>\n",
       "      <td>object</td>\n",
       "      <td>114</td>\n",
       "      <td>0</td>\n",
       "    </tr>\n",
       "    <tr>\n",
       "      <th>məhsul sayi</th>\n",
       "      <td>int64</td>\n",
       "      <td>6</td>\n",
       "      <td>0</td>\n",
       "    </tr>\n",
       "    <tr>\n",
       "      <th>ümumi satış</th>\n",
       "      <td>float64</td>\n",
       "      <td>112</td>\n",
       "      <td>0</td>\n",
       "    </tr>\n",
       "  </tbody>\n",
       "</table>\n",
       "</div>"
      ],
      "text/plain": [
       "                  dtype nunique_val null_sum\n",
       "tarix             int64         364        0\n",
       "mağaza            int64         272        0\n",
       "kart_nomresi      int64       72637        0\n",
       "transaksiya_id    int64      263127        0\n",
       "məhsul_nomresi    int64         114        0\n",
       "məhsul_adi       object         114        0\n",
       "məhsul sayi       int64           6        0\n",
       "ümumi satış     float64         112        0"
      ]
     },
     "execution_count": 410,
     "metadata": {},
     "output_type": "execute_result"
    }
   ],
   "source": [
    "info={}\n",
    "def find_info(data):\n",
    "    for i in data.columns:\n",
    "      nunique_val=df[i].nunique()\n",
    "      null_sum=df[i].isnull().sum()\n",
    "      info[i]=[df[i].dtype,nunique_val,df[i].isnull().sum()]\n",
    "      info_df=pd.DataFrame(info,index=['dtype','nunique_val','null_sum']).T\n",
    "    return info_df\n",
    "\n",
    "find_info(df)"
   ]
  },
  {
   "cell_type": "code",
   "execution_count": 411,
   "id": "49c917ab-cd29-40aa-a395-61ae6f4f1592",
   "metadata": {
    "id": "49c917ab-cd29-40aa-a395-61ae6f4f1592"
   },
   "outputs": [],
   "source": [
    "df.drop('transaksiya_id',axis=1,inplace=True)"
   ]
  },
  {
   "cell_type": "code",
   "execution_count": 412,
   "id": "7ab3852e-d415-4917-8d85-2af9143eb53c",
   "metadata": {
    "colab": {
     "base_uri": "https://localhost:8080/",
     "height": 489
    },
    "id": "7ab3852e-d415-4917-8d85-2af9143eb53c",
    "outputId": "a313daf5-771a-4afb-adfb-ef0b04b54832"
   },
   "outputs": [
    {
     "data": {
      "text/plain": [
       "məhsul_adi\n",
       "Kettle Mozzarella   Basil & Pesto 175g      3304\n",
       "Kettle Tortilla ChpsHny&Jlpno Chili 150g    3296\n",
       "Cobs Popd Swt/Chlli &Sr/Cream Chips 110g    3269\n",
       "Tyrrells Crisps     Ched & Chives 165g      3268\n",
       "Cobs Popd Sea Salt  Chips 110g              3265\n",
       "                                            ... \n",
       "RRD Pc Sea Salt     165g                    1431\n",
       "Woolworths Medium   Salsa 300g              1430\n",
       "NCC Sour Cream &    Garden Chives 175g      1419\n",
       "French Fries Potato Chips 175g              1418\n",
       "WW Crinkle Cut      Original 175g           1410\n",
       "Name: count, Length: 114, dtype: int64"
      ]
     },
     "execution_count": 412,
     "metadata": {},
     "output_type": "execute_result"
    }
   ],
   "source": [
    "df['məhsul_adi'].value_counts()"
   ]
  },
  {
   "cell_type": "code",
   "execution_count": 413,
   "id": "afb59ebd-8558-4db6-925f-913984862f96",
   "metadata": {
    "id": "afb59ebd-8558-4db6-925f-913984862f96"
   },
   "outputs": [],
   "source": [
    "df['qram'] = df['məhsul_adi'].str.extract(r'(\\d+g)')\n",
    "\n",
    "df['məhsul_adi'] = df['məhsul_adi'].str.replace(r'\\s*\\d+g', '', regex=True)\n",
    "\n",
    "df['qram'] = df['qram'].str.replace('g', '')\n",
    "\n",
    "\n"
   ]
  },
  {
   "cell_type": "code",
   "execution_count": 414,
   "id": "48bba786-98e5-45de-af7c-17c396723c3e",
   "metadata": {
    "colab": {
     "base_uri": "https://localhost:8080/",
     "height": 206
    },
    "id": "48bba786-98e5-45de-af7c-17c396723c3e",
    "outputId": "b409a6e4-9638-4186-e9b7-844abb2f16f7"
   },
   "outputs": [
    {
     "data": {
      "text/html": [
       "<div>\n",
       "<style scoped>\n",
       "    .dataframe tbody tr th:only-of-type {\n",
       "        vertical-align: middle;\n",
       "    }\n",
       "\n",
       "    .dataframe tbody tr th {\n",
       "        vertical-align: top;\n",
       "    }\n",
       "\n",
       "    .dataframe thead th {\n",
       "        text-align: right;\n",
       "    }\n",
       "</style>\n",
       "<table border=\"1\" class=\"dataframe\">\n",
       "  <thead>\n",
       "    <tr style=\"text-align: right;\">\n",
       "      <th></th>\n",
       "      <th>tarix</th>\n",
       "      <th>mağaza</th>\n",
       "      <th>kart_nomresi</th>\n",
       "      <th>məhsul_nomresi</th>\n",
       "      <th>məhsul_adi</th>\n",
       "      <th>məhsul sayi</th>\n",
       "      <th>ümumi satış</th>\n",
       "      <th>qram</th>\n",
       "    </tr>\n",
       "  </thead>\n",
       "  <tbody>\n",
       "    <tr>\n",
       "      <th>0</th>\n",
       "      <td>43390</td>\n",
       "      <td>1</td>\n",
       "      <td>1000</td>\n",
       "      <td>5</td>\n",
       "      <td>Natural Chip        Compny SeaSalt</td>\n",
       "      <td>2</td>\n",
       "      <td>6.0</td>\n",
       "      <td>175</td>\n",
       "    </tr>\n",
       "    <tr>\n",
       "      <th>1</th>\n",
       "      <td>43599</td>\n",
       "      <td>1</td>\n",
       "      <td>1307</td>\n",
       "      <td>66</td>\n",
       "      <td>CCs Nacho Cheese</td>\n",
       "      <td>3</td>\n",
       "      <td>6.3</td>\n",
       "      <td>175</td>\n",
       "    </tr>\n",
       "    <tr>\n",
       "      <th>2</th>\n",
       "      <td>43605</td>\n",
       "      <td>1</td>\n",
       "      <td>1343</td>\n",
       "      <td>61</td>\n",
       "      <td>Smiths Crinkle Cut  Chips Chicken</td>\n",
       "      <td>2</td>\n",
       "      <td>2.9</td>\n",
       "      <td>170</td>\n",
       "    </tr>\n",
       "    <tr>\n",
       "      <th>3</th>\n",
       "      <td>43329</td>\n",
       "      <td>2</td>\n",
       "      <td>2373</td>\n",
       "      <td>69</td>\n",
       "      <td>Smiths Chip Thinly  S/Cream&amp;Onion</td>\n",
       "      <td>5</td>\n",
       "      <td>15.0</td>\n",
       "      <td>175</td>\n",
       "    </tr>\n",
       "    <tr>\n",
       "      <th>4</th>\n",
       "      <td>43330</td>\n",
       "      <td>2</td>\n",
       "      <td>2426</td>\n",
       "      <td>108</td>\n",
       "      <td>Kettle Tortilla ChpsHny&amp;Jlpno Chili</td>\n",
       "      <td>3</td>\n",
       "      <td>13.8</td>\n",
       "      <td>150</td>\n",
       "    </tr>\n",
       "  </tbody>\n",
       "</table>\n",
       "</div>"
      ],
      "text/plain": [
       "   tarix  mağaza  kart_nomresi  məhsul_nomresi  \\\n",
       "0  43390       1          1000               5   \n",
       "1  43599       1          1307              66   \n",
       "2  43605       1          1343              61   \n",
       "3  43329       2          2373              69   \n",
       "4  43330       2          2426             108   \n",
       "\n",
       "                            məhsul_adi  məhsul sayi  ümumi satış qram  \n",
       "0   Natural Chip        Compny SeaSalt            2          6.0  175  \n",
       "1                     CCs Nacho Cheese            3          6.3  175  \n",
       "2    Smiths Crinkle Cut  Chips Chicken            2          2.9  170  \n",
       "3    Smiths Chip Thinly  S/Cream&Onion            5         15.0  175  \n",
       "4  Kettle Tortilla ChpsHny&Jlpno Chili            3         13.8  150  "
      ]
     },
     "execution_count": 414,
     "metadata": {},
     "output_type": "execute_result"
    }
   ],
   "source": [
    "df.head()"
   ]
  },
  {
   "cell_type": "code",
   "execution_count": 415,
   "id": "a1f1fe9b-3a66-43cf-a9ff-11a6bedfed4c",
   "metadata": {
    "id": "a1f1fe9b-3a66-43cf-a9ff-11a6bedfed4c"
   },
   "outputs": [],
   "source": [
    "df = df[df['məhsul_adi'].str.contains('chips', case=False, na=False)]"
   ]
  },
  {
   "cell_type": "code",
   "execution_count": 416,
   "id": "739d6287-8d1e-440b-af35-7679117a3c0f",
   "metadata": {
    "colab": {
     "base_uri": "https://localhost:8080/"
    },
    "id": "739d6287-8d1e-440b-af35-7679117a3c0f",
    "outputId": "67f42aee-49a8-47bd-ccc5-d313900e63c7"
   },
   "outputs": [
    {
     "data": {
      "text/plain": [
       "(49770, 8)"
      ]
     },
     "execution_count": 416,
     "metadata": {},
     "output_type": "execute_result"
    }
   ],
   "source": [
    "df.shape"
   ]
  },
  {
   "cell_type": "code",
   "execution_count": 417,
   "id": "b61c907b-fcaa-413e-9d97-5992fab8a616",
   "metadata": {
    "colab": {
     "base_uri": "https://localhost:8080/",
     "height": 206
    },
    "id": "b61c907b-fcaa-413e-9d97-5992fab8a616",
    "outputId": "fcc0b338-6ce9-49a2-84e0-9dddba2ee7f9"
   },
   "outputs": [
    {
     "data": {
      "text/html": [
       "<div>\n",
       "<style scoped>\n",
       "    .dataframe tbody tr th:only-of-type {\n",
       "        vertical-align: middle;\n",
       "    }\n",
       "\n",
       "    .dataframe tbody tr th {\n",
       "        vertical-align: top;\n",
       "    }\n",
       "\n",
       "    .dataframe thead th {\n",
       "        text-align: right;\n",
       "    }\n",
       "</style>\n",
       "<table border=\"1\" class=\"dataframe\">\n",
       "  <thead>\n",
       "    <tr style=\"text-align: right;\">\n",
       "      <th></th>\n",
       "      <th>tarix</th>\n",
       "      <th>mağaza</th>\n",
       "      <th>kart_nomresi</th>\n",
       "      <th>məhsul_nomresi</th>\n",
       "      <th>məhsul_adi</th>\n",
       "      <th>məhsul sayi</th>\n",
       "      <th>ümumi satış</th>\n",
       "      <th>qram</th>\n",
       "    </tr>\n",
       "  </thead>\n",
       "  <tbody>\n",
       "    <tr>\n",
       "      <th>2</th>\n",
       "      <td>43605</td>\n",
       "      <td>1</td>\n",
       "      <td>1343</td>\n",
       "      <td>61</td>\n",
       "      <td>Smiths Crinkle Cut  Chips Chicken</td>\n",
       "      <td>2</td>\n",
       "      <td>2.9</td>\n",
       "      <td>170</td>\n",
       "    </tr>\n",
       "    <tr>\n",
       "      <th>6</th>\n",
       "      <td>43601</td>\n",
       "      <td>4</td>\n",
       "      <td>4149</td>\n",
       "      <td>16</td>\n",
       "      <td>Smiths Crinkle Chips Salt &amp; Vinegar</td>\n",
       "      <td>1</td>\n",
       "      <td>5.7</td>\n",
       "      <td>330</td>\n",
       "    </tr>\n",
       "    <tr>\n",
       "      <th>10</th>\n",
       "      <td>43602</td>\n",
       "      <td>7</td>\n",
       "      <td>7215</td>\n",
       "      <td>16</td>\n",
       "      <td>Smiths Crinkle Chips Salt &amp; Vinegar</td>\n",
       "      <td>1</td>\n",
       "      <td>5.7</td>\n",
       "      <td>330</td>\n",
       "    </tr>\n",
       "    <tr>\n",
       "      <th>14</th>\n",
       "      <td>43600</td>\n",
       "      <td>19</td>\n",
       "      <td>19272</td>\n",
       "      <td>44</td>\n",
       "      <td>Thins Chips Light&amp;  Tangy</td>\n",
       "      <td>1</td>\n",
       "      <td>3.3</td>\n",
       "      <td>175</td>\n",
       "    </tr>\n",
       "    <tr>\n",
       "      <th>33</th>\n",
       "      <td>43603</td>\n",
       "      <td>45</td>\n",
       "      <td>45220</td>\n",
       "      <td>22</td>\n",
       "      <td>Thins Chips         Originl saltd</td>\n",
       "      <td>1</td>\n",
       "      <td>3.3</td>\n",
       "      <td>175</td>\n",
       "    </tr>\n",
       "  </tbody>\n",
       "</table>\n",
       "</div>"
      ],
      "text/plain": [
       "    tarix  mağaza  kart_nomresi  məhsul_nomresi  \\\n",
       "2   43605       1          1343              61   \n",
       "6   43601       4          4149              16   \n",
       "10  43602       7          7215              16   \n",
       "14  43600      19         19272              44   \n",
       "33  43603      45         45220              22   \n",
       "\n",
       "                             məhsul_adi  məhsul sayi  ümumi satış qram  \n",
       "2     Smiths Crinkle Cut  Chips Chicken            2          2.9  170  \n",
       "6   Smiths Crinkle Chips Salt & Vinegar            1          5.7  330  \n",
       "10  Smiths Crinkle Chips Salt & Vinegar            1          5.7  330  \n",
       "14            Thins Chips Light&  Tangy            1          3.3  175  \n",
       "33    Thins Chips         Originl saltd            1          3.3  175  "
      ]
     },
     "execution_count": 417,
     "metadata": {},
     "output_type": "execute_result"
    }
   ],
   "source": [
    "df.head()"
   ]
  },
  {
   "cell_type": "code",
   "execution_count": 418,
   "id": "ed50a714-72ae-4a0d-8789-7389ee061100",
   "metadata": {
    "colab": {
     "base_uri": "https://localhost:8080/",
     "height": 774
    },
    "id": "ed50a714-72ae-4a0d-8789-7389ee061100",
    "outputId": "65899c92-72fb-4301-dabc-d2453634d951"
   },
   "outputs": [
    {
     "data": {
      "text/plain": [
       "məhsul_adi\n",
       "Cobs Popd Swt/Chlli &Sr/Cream Chips    3269\n",
       "Cobs Popd Sea Salt  Chips              3265\n",
       "Thins Potato Chips  Hot & Spicy        3229\n",
       "Doritos Corn Chips  Cheese Supreme     3217\n",
       "Smiths Crinkle Chips Salt & Vinegar    3197\n",
       "Thins Chips Light&  Tangy              3188\n",
       "Doritos Corn Chips  Nacho Cheese       3160\n",
       "Cobs Popd Sour Crm  &Chives Chips      3159\n",
       "Doritos Corn Chips  Original           3121\n",
       "Thins Chips Seasonedchicken            3114\n",
       "Thins Chips Salt &  Vinegar            3103\n",
       "WW Supreme Cheese   Corn Chips         1509\n",
       "WW Original Corn    Chips              1495\n",
       "Smiths Crinkle Cut  Chips Barbecue     1489\n",
       "WW Original Stacked Chips              1487\n",
       "Smiths Crinkle Cut  Chips Chicken      1484\n",
       "WW Sour Cream &OnionStacked Chips      1483\n",
       "Smiths Crinkle Cut  Chips Chs&Onion    1481\n",
       "Smiths Crinkle Cut  Chips Original     1461\n",
       "Thins Chips         Originl saltd      1441\n",
       "French Fries Potato Chips              1418\n",
       "Name: count, dtype: int64"
      ]
     },
     "execution_count": 418,
     "metadata": {},
     "output_type": "execute_result"
    }
   ],
   "source": [
    "df['məhsul_adi'].value_counts()"
   ]
  },
  {
   "cell_type": "code",
   "execution_count": 419,
   "id": "2a128802-5c50-46c0-bd52-49e9067902a2",
   "metadata": {
    "id": "2a128802-5c50-46c0-bd52-49e9067902a2"
   },
   "outputs": [],
   "source": [
    "def categorize_chips(name):\n",
    "    name_lower = name.lower()\n",
    "\n",
    "    if 'salt & vinegar' in name_lower:\n",
    "        return 'Salt & Vinegar'\n",
    "    elif 'cheese supreme' in name_lower:\n",
    "        return 'Cheese Supreme'\n",
    "    elif 'hot & spicy' in name_lower:\n",
    "        return 'Hot & Spicy'\n",
    "    elif 'sour cream & onion' in name_lower:\n",
    "        return 'Sour Cream & Onion'\n",
    "    elif 'barbecue' in name_lower:\n",
    "        return 'Barbecue'\n",
    "    elif 'nacho cheese' in name_lower:\n",
    "        return 'Nacho Cheese'\n",
    "    elif 'chicken' in name_lower:\n",
    "        return 'Chicken'\n",
    "    elif 'original' in name_lower:\n",
    "        return 'Original'\n",
    "    else:\n",
    "        return 'Other'\n",
    "\n",
    "df['category'] = df['məhsul_adi'].apply(categorize_chips)\n"
   ]
  },
  {
   "cell_type": "code",
   "execution_count": 420,
   "id": "810a99bd-626c-4b79-b5d4-c1b234f791a3",
   "metadata": {
    "colab": {
     "base_uri": "https://localhost:8080/",
     "height": 206
    },
    "id": "810a99bd-626c-4b79-b5d4-c1b234f791a3",
    "outputId": "fa715233-1de6-4b7e-fd43-6642aa37e29a"
   },
   "outputs": [
    {
     "data": {
      "text/html": [
       "<div>\n",
       "<style scoped>\n",
       "    .dataframe tbody tr th:only-of-type {\n",
       "        vertical-align: middle;\n",
       "    }\n",
       "\n",
       "    .dataframe tbody tr th {\n",
       "        vertical-align: top;\n",
       "    }\n",
       "\n",
       "    .dataframe thead th {\n",
       "        text-align: right;\n",
       "    }\n",
       "</style>\n",
       "<table border=\"1\" class=\"dataframe\">\n",
       "  <thead>\n",
       "    <tr style=\"text-align: right;\">\n",
       "      <th></th>\n",
       "      <th>tarix</th>\n",
       "      <th>mağaza</th>\n",
       "      <th>kart_nomresi</th>\n",
       "      <th>məhsul_nomresi</th>\n",
       "      <th>məhsul_adi</th>\n",
       "      <th>məhsul sayi</th>\n",
       "      <th>ümumi satış</th>\n",
       "      <th>qram</th>\n",
       "      <th>category</th>\n",
       "    </tr>\n",
       "  </thead>\n",
       "  <tbody>\n",
       "    <tr>\n",
       "      <th>2</th>\n",
       "      <td>43605</td>\n",
       "      <td>1</td>\n",
       "      <td>1343</td>\n",
       "      <td>61</td>\n",
       "      <td>Smiths Crinkle Cut  Chips Chicken</td>\n",
       "      <td>2</td>\n",
       "      <td>2.9</td>\n",
       "      <td>170</td>\n",
       "      <td>Chicken</td>\n",
       "    </tr>\n",
       "    <tr>\n",
       "      <th>6</th>\n",
       "      <td>43601</td>\n",
       "      <td>4</td>\n",
       "      <td>4149</td>\n",
       "      <td>16</td>\n",
       "      <td>Smiths Crinkle Chips Salt &amp; Vinegar</td>\n",
       "      <td>1</td>\n",
       "      <td>5.7</td>\n",
       "      <td>330</td>\n",
       "      <td>Salt &amp; Vinegar</td>\n",
       "    </tr>\n",
       "    <tr>\n",
       "      <th>10</th>\n",
       "      <td>43602</td>\n",
       "      <td>7</td>\n",
       "      <td>7215</td>\n",
       "      <td>16</td>\n",
       "      <td>Smiths Crinkle Chips Salt &amp; Vinegar</td>\n",
       "      <td>1</td>\n",
       "      <td>5.7</td>\n",
       "      <td>330</td>\n",
       "      <td>Salt &amp; Vinegar</td>\n",
       "    </tr>\n",
       "    <tr>\n",
       "      <th>14</th>\n",
       "      <td>43600</td>\n",
       "      <td>19</td>\n",
       "      <td>19272</td>\n",
       "      <td>44</td>\n",
       "      <td>Thins Chips Light&amp;  Tangy</td>\n",
       "      <td>1</td>\n",
       "      <td>3.3</td>\n",
       "      <td>175</td>\n",
       "      <td>Other</td>\n",
       "    </tr>\n",
       "    <tr>\n",
       "      <th>33</th>\n",
       "      <td>43603</td>\n",
       "      <td>45</td>\n",
       "      <td>45220</td>\n",
       "      <td>22</td>\n",
       "      <td>Thins Chips         Originl saltd</td>\n",
       "      <td>1</td>\n",
       "      <td>3.3</td>\n",
       "      <td>175</td>\n",
       "      <td>Other</td>\n",
       "    </tr>\n",
       "  </tbody>\n",
       "</table>\n",
       "</div>"
      ],
      "text/plain": [
       "    tarix  mağaza  kart_nomresi  məhsul_nomresi  \\\n",
       "2   43605       1          1343              61   \n",
       "6   43601       4          4149              16   \n",
       "10  43602       7          7215              16   \n",
       "14  43600      19         19272              44   \n",
       "33  43603      45         45220              22   \n",
       "\n",
       "                             məhsul_adi  məhsul sayi  ümumi satış qram  \\\n",
       "2     Smiths Crinkle Cut  Chips Chicken            2          2.9  170   \n",
       "6   Smiths Crinkle Chips Salt & Vinegar            1          5.7  330   \n",
       "10  Smiths Crinkle Chips Salt & Vinegar            1          5.7  330   \n",
       "14            Thins Chips Light&  Tangy            1          3.3  175   \n",
       "33    Thins Chips         Originl saltd            1          3.3  175   \n",
       "\n",
       "          category  \n",
       "2          Chicken  \n",
       "6   Salt & Vinegar  \n",
       "10  Salt & Vinegar  \n",
       "14           Other  \n",
       "33           Other  "
      ]
     },
     "execution_count": 420,
     "metadata": {},
     "output_type": "execute_result"
    }
   ],
   "source": [
    "df.head()"
   ]
  },
  {
   "cell_type": "code",
   "execution_count": 421,
   "id": "uvZ09J1daCE6",
   "metadata": {
    "id": "uvZ09J1daCE6"
   },
   "outputs": [],
   "source": [
    "import re"
   ]
  },
  {
   "cell_type": "code",
   "execution_count": 422,
   "id": "6643de35-4409-4440-baa1-935c6793a9b7",
   "metadata": {
    "id": "6643de35-4409-4440-baa1-935c6793a9b7"
   },
   "outputs": [],
   "source": [
    "def remove_category_keywords(name, category):\n",
    "    keywords = {\n",
    "        'Salt & Vinegar': 'salt & vinegar',\n",
    "        'Cheese Supreme': 'cheese supreme',\n",
    "        'Hot & Spicy': 'hot & spicy',\n",
    "        'Sour Cream & Onion': 'sour cream & onion',\n",
    "        'Barbecue': 'barbecue',\n",
    "        'Nacho Cheese': 'nacho cheese',\n",
    "        'Chicken': 'chicken',\n",
    "        'Original': 'original'\n",
    "    }\n",
    "\n",
    "    if category in keywords:\n",
    "        pattern = keywords[category]\n",
    "        name = re.sub(pattern, '', name, flags=re.I)\n",
    "    return name.strip()\n",
    "\n",
    "df['cleaned_mehsul_adi'] = df.apply(lambda row: remove_category_keywords(row['məhsul_adi'], row['category']), axis=1)\n",
    "\n"
   ]
  },
  {
   "cell_type": "code",
   "execution_count": 423,
   "id": "1d13ae53-f22c-4ca8-a114-d9d23f76bb3e",
   "metadata": {
    "colab": {
     "base_uri": "https://localhost:8080/",
     "height": 206
    },
    "id": "1d13ae53-f22c-4ca8-a114-d9d23f76bb3e",
    "outputId": "e47972b5-2a2a-4df9-8e79-6ac0e52956c7"
   },
   "outputs": [
    {
     "data": {
      "text/html": [
       "<div>\n",
       "<style scoped>\n",
       "    .dataframe tbody tr th:only-of-type {\n",
       "        vertical-align: middle;\n",
       "    }\n",
       "\n",
       "    .dataframe tbody tr th {\n",
       "        vertical-align: top;\n",
       "    }\n",
       "\n",
       "    .dataframe thead th {\n",
       "        text-align: right;\n",
       "    }\n",
       "</style>\n",
       "<table border=\"1\" class=\"dataframe\">\n",
       "  <thead>\n",
       "    <tr style=\"text-align: right;\">\n",
       "      <th></th>\n",
       "      <th>tarix</th>\n",
       "      <th>mağaza</th>\n",
       "      <th>kart_nomresi</th>\n",
       "      <th>məhsul_nomresi</th>\n",
       "      <th>məhsul_adi</th>\n",
       "      <th>məhsul sayi</th>\n",
       "      <th>ümumi satış</th>\n",
       "      <th>qram</th>\n",
       "      <th>category</th>\n",
       "      <th>cleaned_mehsul_adi</th>\n",
       "    </tr>\n",
       "  </thead>\n",
       "  <tbody>\n",
       "    <tr>\n",
       "      <th>2</th>\n",
       "      <td>43605</td>\n",
       "      <td>1</td>\n",
       "      <td>1343</td>\n",
       "      <td>61</td>\n",
       "      <td>Smiths Crinkle Cut  Chips Chicken</td>\n",
       "      <td>2</td>\n",
       "      <td>2.9</td>\n",
       "      <td>170</td>\n",
       "      <td>Chicken</td>\n",
       "      <td>Smiths Crinkle Cut  Chips</td>\n",
       "    </tr>\n",
       "    <tr>\n",
       "      <th>6</th>\n",
       "      <td>43601</td>\n",
       "      <td>4</td>\n",
       "      <td>4149</td>\n",
       "      <td>16</td>\n",
       "      <td>Smiths Crinkle Chips Salt &amp; Vinegar</td>\n",
       "      <td>1</td>\n",
       "      <td>5.7</td>\n",
       "      <td>330</td>\n",
       "      <td>Salt &amp; Vinegar</td>\n",
       "      <td>Smiths Crinkle Chips</td>\n",
       "    </tr>\n",
       "    <tr>\n",
       "      <th>10</th>\n",
       "      <td>43602</td>\n",
       "      <td>7</td>\n",
       "      <td>7215</td>\n",
       "      <td>16</td>\n",
       "      <td>Smiths Crinkle Chips Salt &amp; Vinegar</td>\n",
       "      <td>1</td>\n",
       "      <td>5.7</td>\n",
       "      <td>330</td>\n",
       "      <td>Salt &amp; Vinegar</td>\n",
       "      <td>Smiths Crinkle Chips</td>\n",
       "    </tr>\n",
       "    <tr>\n",
       "      <th>14</th>\n",
       "      <td>43600</td>\n",
       "      <td>19</td>\n",
       "      <td>19272</td>\n",
       "      <td>44</td>\n",
       "      <td>Thins Chips Light&amp;  Tangy</td>\n",
       "      <td>1</td>\n",
       "      <td>3.3</td>\n",
       "      <td>175</td>\n",
       "      <td>Other</td>\n",
       "      <td>Thins Chips Light&amp;  Tangy</td>\n",
       "    </tr>\n",
       "    <tr>\n",
       "      <th>33</th>\n",
       "      <td>43603</td>\n",
       "      <td>45</td>\n",
       "      <td>45220</td>\n",
       "      <td>22</td>\n",
       "      <td>Thins Chips         Originl saltd</td>\n",
       "      <td>1</td>\n",
       "      <td>3.3</td>\n",
       "      <td>175</td>\n",
       "      <td>Other</td>\n",
       "      <td>Thins Chips         Originl saltd</td>\n",
       "    </tr>\n",
       "  </tbody>\n",
       "</table>\n",
       "</div>"
      ],
      "text/plain": [
       "    tarix  mağaza  kart_nomresi  məhsul_nomresi  \\\n",
       "2   43605       1          1343              61   \n",
       "6   43601       4          4149              16   \n",
       "10  43602       7          7215              16   \n",
       "14  43600      19         19272              44   \n",
       "33  43603      45         45220              22   \n",
       "\n",
       "                             məhsul_adi  məhsul sayi  ümumi satış qram  \\\n",
       "2     Smiths Crinkle Cut  Chips Chicken            2          2.9  170   \n",
       "6   Smiths Crinkle Chips Salt & Vinegar            1          5.7  330   \n",
       "10  Smiths Crinkle Chips Salt & Vinegar            1          5.7  330   \n",
       "14            Thins Chips Light&  Tangy            1          3.3  175   \n",
       "33    Thins Chips         Originl saltd            1          3.3  175   \n",
       "\n",
       "          category                 cleaned_mehsul_adi  \n",
       "2          Chicken          Smiths Crinkle Cut  Chips  \n",
       "6   Salt & Vinegar               Smiths Crinkle Chips  \n",
       "10  Salt & Vinegar               Smiths Crinkle Chips  \n",
       "14           Other          Thins Chips Light&  Tangy  \n",
       "33           Other  Thins Chips         Originl saltd  "
      ]
     },
     "execution_count": 423,
     "metadata": {},
     "output_type": "execute_result"
    }
   ],
   "source": [
    "df.head()"
   ]
  },
  {
   "cell_type": "code",
   "execution_count": 424,
   "id": "b9996c4b-b61a-4a3d-ae36-4d2d5f603128",
   "metadata": {
    "id": "b9996c4b-b61a-4a3d-ae36-4d2d5f603128"
   },
   "outputs": [],
   "source": [
    "df.drop('məhsul_adi',axis=1,inplace=True)"
   ]
  },
  {
   "cell_type": "code",
   "execution_count": 425,
   "id": "2f22f7c7-35f7-4ed2-bceb-af4d5cb6ef02",
   "metadata": {
    "colab": {
     "base_uri": "https://localhost:8080/",
     "height": 206
    },
    "id": "2f22f7c7-35f7-4ed2-bceb-af4d5cb6ef02",
    "outputId": "053fe9db-1220-4c65-86df-3d58f1038343"
   },
   "outputs": [
    {
     "data": {
      "text/html": [
       "<div>\n",
       "<style scoped>\n",
       "    .dataframe tbody tr th:only-of-type {\n",
       "        vertical-align: middle;\n",
       "    }\n",
       "\n",
       "    .dataframe tbody tr th {\n",
       "        vertical-align: top;\n",
       "    }\n",
       "\n",
       "    .dataframe thead th {\n",
       "        text-align: right;\n",
       "    }\n",
       "</style>\n",
       "<table border=\"1\" class=\"dataframe\">\n",
       "  <thead>\n",
       "    <tr style=\"text-align: right;\">\n",
       "      <th></th>\n",
       "      <th>tarix</th>\n",
       "      <th>mağaza</th>\n",
       "      <th>kart_nomresi</th>\n",
       "      <th>məhsul_nomresi</th>\n",
       "      <th>məhsul sayi</th>\n",
       "      <th>ümumi satış</th>\n",
       "      <th>qram</th>\n",
       "      <th>category</th>\n",
       "      <th>cleaned_mehsul_adi</th>\n",
       "    </tr>\n",
       "  </thead>\n",
       "  <tbody>\n",
       "    <tr>\n",
       "      <th>2</th>\n",
       "      <td>43605</td>\n",
       "      <td>1</td>\n",
       "      <td>1343</td>\n",
       "      <td>61</td>\n",
       "      <td>2</td>\n",
       "      <td>2.9</td>\n",
       "      <td>170</td>\n",
       "      <td>Chicken</td>\n",
       "      <td>Smiths Crinkle Cut  Chips</td>\n",
       "    </tr>\n",
       "    <tr>\n",
       "      <th>6</th>\n",
       "      <td>43601</td>\n",
       "      <td>4</td>\n",
       "      <td>4149</td>\n",
       "      <td>16</td>\n",
       "      <td>1</td>\n",
       "      <td>5.7</td>\n",
       "      <td>330</td>\n",
       "      <td>Salt &amp; Vinegar</td>\n",
       "      <td>Smiths Crinkle Chips</td>\n",
       "    </tr>\n",
       "    <tr>\n",
       "      <th>10</th>\n",
       "      <td>43602</td>\n",
       "      <td>7</td>\n",
       "      <td>7215</td>\n",
       "      <td>16</td>\n",
       "      <td>1</td>\n",
       "      <td>5.7</td>\n",
       "      <td>330</td>\n",
       "      <td>Salt &amp; Vinegar</td>\n",
       "      <td>Smiths Crinkle Chips</td>\n",
       "    </tr>\n",
       "    <tr>\n",
       "      <th>14</th>\n",
       "      <td>43600</td>\n",
       "      <td>19</td>\n",
       "      <td>19272</td>\n",
       "      <td>44</td>\n",
       "      <td>1</td>\n",
       "      <td>3.3</td>\n",
       "      <td>175</td>\n",
       "      <td>Other</td>\n",
       "      <td>Thins Chips Light&amp;  Tangy</td>\n",
       "    </tr>\n",
       "    <tr>\n",
       "      <th>33</th>\n",
       "      <td>43603</td>\n",
       "      <td>45</td>\n",
       "      <td>45220</td>\n",
       "      <td>22</td>\n",
       "      <td>1</td>\n",
       "      <td>3.3</td>\n",
       "      <td>175</td>\n",
       "      <td>Other</td>\n",
       "      <td>Thins Chips         Originl saltd</td>\n",
       "    </tr>\n",
       "  </tbody>\n",
       "</table>\n",
       "</div>"
      ],
      "text/plain": [
       "    tarix  mağaza  kart_nomresi  məhsul_nomresi  məhsul sayi  ümumi satış  \\\n",
       "2   43605       1          1343              61            2          2.9   \n",
       "6   43601       4          4149              16            1          5.7   \n",
       "10  43602       7          7215              16            1          5.7   \n",
       "14  43600      19         19272              44            1          3.3   \n",
       "33  43603      45         45220              22            1          3.3   \n",
       "\n",
       "   qram        category                 cleaned_mehsul_adi  \n",
       "2   170         Chicken          Smiths Crinkle Cut  Chips  \n",
       "6   330  Salt & Vinegar               Smiths Crinkle Chips  \n",
       "10  330  Salt & Vinegar               Smiths Crinkle Chips  \n",
       "14  175           Other          Thins Chips Light&  Tangy  \n",
       "33  175           Other  Thins Chips         Originl saltd  "
      ]
     },
     "execution_count": 425,
     "metadata": {},
     "output_type": "execute_result"
    }
   ],
   "source": [
    "df.head()"
   ]
  },
  {
   "cell_type": "code",
   "execution_count": 426,
   "id": "941c0c0d-6bd4-4ea5-9d4a-0c81671e3626",
   "metadata": {
    "id": "941c0c0d-6bd4-4ea5-9d4a-0c81671e3626"
   },
   "outputs": [],
   "source": [
    "df['tarix'] = pd.to_datetime(df['tarix'], origin='1899-12-30', unit='D')"
   ]
  },
  {
   "cell_type": "code",
   "execution_count": 427,
   "id": "e9dffe71-10ae-44b6-a6a6-27e575a25f98",
   "metadata": {
    "colab": {
     "base_uri": "https://localhost:8080/",
     "height": 206
    },
    "id": "e9dffe71-10ae-44b6-a6a6-27e575a25f98",
    "outputId": "a84ae251-d0e8-4791-dcfd-3c088444a493"
   },
   "outputs": [
    {
     "data": {
      "text/html": [
       "<div>\n",
       "<style scoped>\n",
       "    .dataframe tbody tr th:only-of-type {\n",
       "        vertical-align: middle;\n",
       "    }\n",
       "\n",
       "    .dataframe tbody tr th {\n",
       "        vertical-align: top;\n",
       "    }\n",
       "\n",
       "    .dataframe thead th {\n",
       "        text-align: right;\n",
       "    }\n",
       "</style>\n",
       "<table border=\"1\" class=\"dataframe\">\n",
       "  <thead>\n",
       "    <tr style=\"text-align: right;\">\n",
       "      <th></th>\n",
       "      <th>tarix</th>\n",
       "      <th>mağaza</th>\n",
       "      <th>kart_nomresi</th>\n",
       "      <th>məhsul_nomresi</th>\n",
       "      <th>məhsul sayi</th>\n",
       "      <th>ümumi satış</th>\n",
       "      <th>qram</th>\n",
       "      <th>category</th>\n",
       "      <th>cleaned_mehsul_adi</th>\n",
       "    </tr>\n",
       "  </thead>\n",
       "  <tbody>\n",
       "    <tr>\n",
       "      <th>2</th>\n",
       "      <td>2019-05-20</td>\n",
       "      <td>1</td>\n",
       "      <td>1343</td>\n",
       "      <td>61</td>\n",
       "      <td>2</td>\n",
       "      <td>2.9</td>\n",
       "      <td>170</td>\n",
       "      <td>Chicken</td>\n",
       "      <td>Smiths Crinkle Cut  Chips</td>\n",
       "    </tr>\n",
       "    <tr>\n",
       "      <th>6</th>\n",
       "      <td>2019-05-16</td>\n",
       "      <td>4</td>\n",
       "      <td>4149</td>\n",
       "      <td>16</td>\n",
       "      <td>1</td>\n",
       "      <td>5.7</td>\n",
       "      <td>330</td>\n",
       "      <td>Salt &amp; Vinegar</td>\n",
       "      <td>Smiths Crinkle Chips</td>\n",
       "    </tr>\n",
       "    <tr>\n",
       "      <th>10</th>\n",
       "      <td>2019-05-17</td>\n",
       "      <td>7</td>\n",
       "      <td>7215</td>\n",
       "      <td>16</td>\n",
       "      <td>1</td>\n",
       "      <td>5.7</td>\n",
       "      <td>330</td>\n",
       "      <td>Salt &amp; Vinegar</td>\n",
       "      <td>Smiths Crinkle Chips</td>\n",
       "    </tr>\n",
       "    <tr>\n",
       "      <th>14</th>\n",
       "      <td>2019-05-15</td>\n",
       "      <td>19</td>\n",
       "      <td>19272</td>\n",
       "      <td>44</td>\n",
       "      <td>1</td>\n",
       "      <td>3.3</td>\n",
       "      <td>175</td>\n",
       "      <td>Other</td>\n",
       "      <td>Thins Chips Light&amp;  Tangy</td>\n",
       "    </tr>\n",
       "    <tr>\n",
       "      <th>33</th>\n",
       "      <td>2019-05-18</td>\n",
       "      <td>45</td>\n",
       "      <td>45220</td>\n",
       "      <td>22</td>\n",
       "      <td>1</td>\n",
       "      <td>3.3</td>\n",
       "      <td>175</td>\n",
       "      <td>Other</td>\n",
       "      <td>Thins Chips         Originl saltd</td>\n",
       "    </tr>\n",
       "  </tbody>\n",
       "</table>\n",
       "</div>"
      ],
      "text/plain": [
       "        tarix  mağaza  kart_nomresi  məhsul_nomresi  məhsul sayi  ümumi satış  \\\n",
       "2  2019-05-20       1          1343              61            2          2.9   \n",
       "6  2019-05-16       4          4149              16            1          5.7   \n",
       "10 2019-05-17       7          7215              16            1          5.7   \n",
       "14 2019-05-15      19         19272              44            1          3.3   \n",
       "33 2019-05-18      45         45220              22            1          3.3   \n",
       "\n",
       "   qram        category                 cleaned_mehsul_adi  \n",
       "2   170         Chicken          Smiths Crinkle Cut  Chips  \n",
       "6   330  Salt & Vinegar               Smiths Crinkle Chips  \n",
       "10  330  Salt & Vinegar               Smiths Crinkle Chips  \n",
       "14  175           Other          Thins Chips Light&  Tangy  \n",
       "33  175           Other  Thins Chips         Originl saltd  "
      ]
     },
     "execution_count": 427,
     "metadata": {},
     "output_type": "execute_result"
    }
   ],
   "source": [
    "df.head()"
   ]
  },
  {
   "cell_type": "code",
   "execution_count": 428,
   "id": "2b265187-5632-477b-a718-577ec952d847",
   "metadata": {
    "id": "2b265187-5632-477b-a718-577ec952d847"
   },
   "outputs": [],
   "source": [
    "# df['year'] = df['tarix'].dt.year\n",
    "# df['month'] = df['tarix'].dt.month\n",
    "# df['day'] = df['tarix'].dt.day\n",
    "\n",
    "# df = df.drop('tarix', axis=1)\n"
   ]
  },
  {
   "cell_type": "code",
   "execution_count": 429,
   "id": "96356ca4",
   "metadata": {},
   "outputs": [
    {
     "data": {
      "text/plain": [
       "category\n",
       "Other             23316\n",
       "Original           7564\n",
       "Chicken            4598\n",
       "Hot & Spicy        3229\n",
       "Cheese Supreme     3217\n",
       "Salt & Vinegar     3197\n",
       "Nacho Cheese       3160\n",
       "Barbecue           1489\n",
       "Name: count, dtype: int64"
      ]
     },
     "execution_count": 429,
     "metadata": {},
     "output_type": "execute_result"
    }
   ],
   "source": [
    "df['category'].value_counts()"
   ]
  },
  {
   "cell_type": "code",
   "execution_count": 430,
   "id": "4a7328bc",
   "metadata": {},
   "outputs": [
    {
     "data": {
      "text/plain": [
       "cleaned_mehsul_adi\n",
       "Doritos Corn Chips                     9498\n",
       "Smiths Crinkle Cut  Chips              4434\n",
       "Cobs Popd Swt/Chlli &Sr/Cream Chips    3269\n",
       "Cobs Popd Sea Salt  Chips              3265\n",
       "Thins Potato Chips                     3229\n",
       "Smiths Crinkle Chips                   3197\n",
       "Thins Chips Light&  Tangy              3188\n",
       "Cobs Popd Sour Crm  &Chives Chips      3159\n",
       "Thins Chips Seasoned                   3114\n",
       "Thins Chips Salt &  Vinegar            3103\n",
       "WW Supreme Cheese   Corn Chips         1509\n",
       "WW  Corn    Chips                      1495\n",
       "WW  Stacked Chips                      1487\n",
       "WW Sour Cream &OnionStacked Chips      1483\n",
       "Smiths Crinkle Cut  Chips Chs&Onion    1481\n",
       "Thins Chips         Originl saltd      1441\n",
       "French Fries Potato Chips              1418\n",
       "Name: count, dtype: int64"
      ]
     },
     "execution_count": 430,
     "metadata": {},
     "output_type": "execute_result"
    }
   ],
   "source": [
    "df['cleaned_mehsul_adi'].value_counts()"
   ]
  },
  {
   "cell_type": "code",
   "execution_count": 431,
   "id": "0e006378",
   "metadata": {},
   "outputs": [],
   "source": [
    "df['cleaned_mehsul_adi'] = df['cleaned_mehsul_adi'].apply(lambda x: ' '.join(x.split()[0]))"
   ]
  },
  {
   "cell_type": "code",
   "execution_count": 432,
   "id": "1732392c",
   "metadata": {},
   "outputs": [
    {
     "data": {
      "text/plain": [
       "cleaned_mehsul_adi\n",
       "T h i n s        14075\n",
       "C o b s           9693\n",
       "D o r i t o s     9498\n",
       "S m i t h s       9112\n",
       "W W               5974\n",
       "F r e n c h       1418\n",
       "Name: count, dtype: int64"
      ]
     },
     "execution_count": 432,
     "metadata": {},
     "output_type": "execute_result"
    }
   ],
   "source": [
    "df['cleaned_mehsul_adi'].value_counts()"
   ]
  },
  {
   "cell_type": "code",
   "execution_count": 433,
   "id": "3c8f2110",
   "metadata": {},
   "outputs": [],
   "source": [
    "df = df.drop(columns = ['kart_nomresi'])"
   ]
  },
  {
   "cell_type": "code",
   "execution_count": 434,
   "id": "4a86b7d8",
   "metadata": {},
   "outputs": [
    {
     "data": {
      "text/html": [
       "<div>\n",
       "<style scoped>\n",
       "    .dataframe tbody tr th:only-of-type {\n",
       "        vertical-align: middle;\n",
       "    }\n",
       "\n",
       "    .dataframe tbody tr th {\n",
       "        vertical-align: top;\n",
       "    }\n",
       "\n",
       "    .dataframe thead th {\n",
       "        text-align: right;\n",
       "    }\n",
       "</style>\n",
       "<table border=\"1\" class=\"dataframe\">\n",
       "  <thead>\n",
       "    <tr style=\"text-align: right;\">\n",
       "      <th></th>\n",
       "      <th>tarix</th>\n",
       "      <th>mağaza</th>\n",
       "      <th>məhsul_nomresi</th>\n",
       "      <th>məhsul sayi</th>\n",
       "      <th>ümumi satış</th>\n",
       "      <th>qram</th>\n",
       "      <th>category</th>\n",
       "      <th>cleaned_mehsul_adi</th>\n",
       "    </tr>\n",
       "  </thead>\n",
       "  <tbody>\n",
       "    <tr>\n",
       "      <th>2</th>\n",
       "      <td>2019-05-20</td>\n",
       "      <td>1</td>\n",
       "      <td>61</td>\n",
       "      <td>2</td>\n",
       "      <td>2.9</td>\n",
       "      <td>170</td>\n",
       "      <td>Chicken</td>\n",
       "      <td>S m i t h s</td>\n",
       "    </tr>\n",
       "    <tr>\n",
       "      <th>6</th>\n",
       "      <td>2019-05-16</td>\n",
       "      <td>4</td>\n",
       "      <td>16</td>\n",
       "      <td>1</td>\n",
       "      <td>5.7</td>\n",
       "      <td>330</td>\n",
       "      <td>Salt &amp; Vinegar</td>\n",
       "      <td>S m i t h s</td>\n",
       "    </tr>\n",
       "    <tr>\n",
       "      <th>10</th>\n",
       "      <td>2019-05-17</td>\n",
       "      <td>7</td>\n",
       "      <td>16</td>\n",
       "      <td>1</td>\n",
       "      <td>5.7</td>\n",
       "      <td>330</td>\n",
       "      <td>Salt &amp; Vinegar</td>\n",
       "      <td>S m i t h s</td>\n",
       "    </tr>\n",
       "    <tr>\n",
       "      <th>14</th>\n",
       "      <td>2019-05-15</td>\n",
       "      <td>19</td>\n",
       "      <td>44</td>\n",
       "      <td>1</td>\n",
       "      <td>3.3</td>\n",
       "      <td>175</td>\n",
       "      <td>Other</td>\n",
       "      <td>T h i n s</td>\n",
       "    </tr>\n",
       "    <tr>\n",
       "      <th>33</th>\n",
       "      <td>2019-05-18</td>\n",
       "      <td>45</td>\n",
       "      <td>22</td>\n",
       "      <td>1</td>\n",
       "      <td>3.3</td>\n",
       "      <td>175</td>\n",
       "      <td>Other</td>\n",
       "      <td>T h i n s</td>\n",
       "    </tr>\n",
       "  </tbody>\n",
       "</table>\n",
       "</div>"
      ],
      "text/plain": [
       "        tarix  mağaza  məhsul_nomresi  məhsul sayi  ümumi satış qram  \\\n",
       "2  2019-05-20       1              61            2          2.9  170   \n",
       "6  2019-05-16       4              16            1          5.7  330   \n",
       "10 2019-05-17       7              16            1          5.7  330   \n",
       "14 2019-05-15      19              44            1          3.3  175   \n",
       "33 2019-05-18      45              22            1          3.3  175   \n",
       "\n",
       "          category cleaned_mehsul_adi  \n",
       "2          Chicken        S m i t h s  \n",
       "6   Salt & Vinegar        S m i t h s  \n",
       "10  Salt & Vinegar        S m i t h s  \n",
       "14           Other          T h i n s  \n",
       "33           Other          T h i n s  "
      ]
     },
     "execution_count": 434,
     "metadata": {},
     "output_type": "execute_result"
    }
   ],
   "source": [
    "df.head()"
   ]
  },
  {
   "cell_type": "markdown",
   "id": "812634ae",
   "metadata": {},
   "source": [
    "# Data visualization"
   ]
  },
  {
   "cell_type": "code",
   "execution_count": 435,
   "id": "8d6aa5ca",
   "metadata": {},
   "outputs": [],
   "source": [
    "import seaborn as sns\n",
    "import matplotlib.pyplot as plt"
   ]
  },
  {
   "cell_type": "code",
   "execution_count": 436,
   "id": "3b407a13",
   "metadata": {},
   "outputs": [
    {
     "data": {
      "image/png": "[encoded data removed]",
      "text/plain": [
       "<Figure size 1000x600 with 1 Axes>"
      ]
     },
     "metadata": {},
     "output_type": "display_data"
    }
   ],
   "source": [
    "category_sales = df.groupby('category')['ümumi satış'].sum().reset_index()\n",
    "total_sales = category_sales['ümumi satış'].sum()\n",
    "\n",
    "# Calculate percentage for each category\n",
    "category_sales['Percentage'] = (category_sales['ümumi satış'] / total_sales) * 100\n",
    "\n",
    "# Plot percentage by category\n",
    "plt.figure(figsize=(10, 6))\n",
    "ax = sns.barplot(x='category', y='Percentage', data=category_sales)\n",
    "\n",
    "# Add percentage labels on top of each bar\n",
    "for p in ax.patches:\n",
    "    height = p.get_height()\n",
    "    ax.annotate(f'{height:.1f}%', \n",
    "                (p.get_x() + p.get_width() / 2., height),\n",
    "                ha='center', va='center',\n",
    "                xytext=(0, 5), \n",
    "                textcoords='offset points')\n",
    "\n",
    "plt.title('Percentage of Total Sales by Category')\n",
    "plt.xlabel('Category')\n",
    "plt.ylabel('Percentage of Total Sales (%)')\n",
    "plt.xticks(rotation=45)  # Rotate x labels for better readability\n",
    "plt.show()"
   ]
  },
  {
   "cell_type": "code",
   "execution_count": 437,
   "id": "3d737b08",
   "metadata": {},
   "outputs": [
    {
     "data": {
      "image/png": "[encoded data removed]",
      "text/plain": [
       "<Figure size 1000x600 with 1 Axes>"
      ]
     },
     "metadata": {},
     "output_type": "display_data"
    }
   ],
   "source": [
    "category_sales = df.groupby('qram')['ümumi satış'].sum().reset_index()\n",
    "total_sales = category_sales['ümumi satış'].sum()\n",
    "\n",
    "# Calculate percentage for each category\n",
    "category_sales['Percentage'] = (category_sales['ümumi satış'] / total_sales) * 100\n",
    "\n",
    "# Plot percentage by category\n",
    "plt.figure(figsize=(10, 6))\n",
    "ax = sns.barplot(x='qram', y='Percentage', data=category_sales)\n",
    "\n",
    "# Add percentage labels on top of each bar\n",
    "for p in ax.patches:\n",
    "    height = p.get_height()\n",
    "    ax.annotate(f'{height:.1f}%', \n",
    "                (p.get_x() + p.get_width() / 2., height),\n",
    "                ha='center', va='center',\n",
    "                xytext=(0, 5), \n",
    "                textcoords='offset points')\n",
    "\n",
    "plt.title('Percentage of Total Sales by Category')\n",
    "plt.xlabel('Category')\n",
    "plt.ylabel('Percentage of Total Sales (%)')\n",
    "plt.xticks(rotation=45)  # Rotate x labels for better readability\n",
    "plt.show()"
   ]
  },
  {
   "cell_type": "code",
   "execution_count": 438,
   "id": "3433b626",
   "metadata": {},
   "outputs": [
    {
     "data": {
      "image/png": "[encoded data removed]",
      "text/plain": [
       "<Figure size 1000x600 with 1 Axes>"
      ]
     },
     "metadata": {},
     "output_type": "display_data"
    }
   ],
   "source": [
    "\n",
    "df_sorted = df.sort_values(by='qram')\n",
    "\n",
    "# Create the scatter plot with sorted x values\n",
    "plt.figure(figsize=(10, 6))\n",
    "sns.scatterplot(x='qram', y='ümumi satış', hue='category', data=df_sorted, s=100)\n",
    "plt.title('Total Sales vs Product Weight')\n",
    "plt.xlabel('Product Weight (qram)')\n",
    "plt.ylabel('Total Sales (ümumi satış)')\n",
    "plt.legend(title='Category')\n",
    "plt.show()"
   ]
  },
  {
   "cell_type": "code",
   "execution_count": 439,
   "id": "3abb155c",
   "metadata": {},
   "outputs": [
    {
     "data": {
      "image/png": "[encoded data removed]",
      "text/plain": [
       "<Figure size 1000x600 with 1 Axes>"
      ]
     },
     "metadata": {},
     "output_type": "display_data"
    }
   ],
   "source": [
    "category_sales = df.groupby('cleaned_mehsul_adi')['ümumi satış'].sum().reset_index()\n",
    "total_sales = category_sales['ümumi satış'].sum()\n",
    "\n",
    "# Calculate percentage for each category\n",
    "category_sales['Percentage'] = (category_sales['ümumi satış'] / total_sales) * 100\n",
    "\n",
    "# Plot percentage by category\n",
    "plt.figure(figsize=(10, 6))\n",
    "ax = sns.barplot(x='cleaned_mehsul_adi', y='Percentage', data=category_sales)\n",
    "\n",
    "# Add percentage labels on top of each bar\n",
    "for p in ax.patches:\n",
    "    height = p.get_height()\n",
    "    ax.annotate(f'{height:.1f}%', \n",
    "                (p.get_x() + p.get_width() / 2., height),\n",
    "                ha='center', va='center',\n",
    "                xytext=(0, 5), \n",
    "                textcoords='offset points')\n",
    "\n",
    "plt.title('Percentage of Total Sales by Category')\n",
    "plt.xlabel('Category')\n",
    "plt.ylabel('Percentage of Total Sales (%)')\n",
    "plt.xticks(rotation=45)  # Rotate x labels for better readability\n",
    "plt.show()"
   ]
  },
  {
   "cell_type": "code",
   "execution_count": 445,
   "id": "b41f27f8",
   "metadata": {},
   "outputs": [
    {
     "data": {
      "image/png": "[encoded data removed]",
      "text/plain": [
       "<Figure size 1400x700 with 1 Axes>"
      ]
     },
     "metadata": {},
     "output_type": "display_data"
    }
   ],
   "source": [
    "import pandas as pd\n",
    "import matplotlib.pyplot as plt\n",
    "\n",
    "# Copy the DataFrame and convert 'tarix' to datetime\n",
    "df_copy = df.copy()\n",
    "df_copy['tarix'] = pd.to_datetime(df_copy['tarix'])\n",
    "df_copy['Year'] = df_copy['tarix'].dt.year\n",
    "df_copy['Month'] = df_copy['tarix'].dt.to_period('M')  # Add month information\n",
    "\n",
    "# Group by year and month and sum the 'ümumi satış'\n",
    "monthly_sales = df_copy.groupby(['Year', 'Month'])['ümumi satış'].sum().reset_index()\n",
    "\n",
    "# Convert 'Month' from Period to string for plotting\n",
    "monthly_sales['Month'] = monthly_sales['Month'].astype(str)\n",
    "\n",
    "# Plot total sales by year and month\n",
    "plt.figure(figsize=(14, 7))\n",
    "for year in monthly_sales['Year'].unique():\n",
    "    subset = monthly_sales[monthly_sales['Year'] == year]\n",
    "    plt.plot(subset['Month'], subset['ümumi satış'], marker='o', linestyle='-', label=f'Year {year}')\n",
    "\n",
    "plt.title('Total Sales by Month')\n",
    "plt.xlabel('Year-Month')\n",
    "plt.ylabel('Total Sales (ümumi satış)')\n",
    "plt.grid(True)\n",
    "plt.legend(title='Year')\n",
    "plt.xticks(rotation=45)  # Rotate x-axis labels for better readability\n",
    "plt.tight_layout()  # Adjust layout to fit labels\n",
    "plt.show()\n"
   ]
  },
  {
   "cell_type": "code",
   "execution_count": null,
   "id": "983c9424",
   "metadata": {},
   "outputs": [],
   "source": []
  },
  {
   "cell_type": "markdown",
   "id": "dWxmqPK0eBt4",
   "metadata": {
    "id": "dWxmqPK0eBt4"
   },
   "source": [
    "PIPELINE PART"
   ]
  },
  {
   "cell_type": "code",
   "execution_count": 317,
   "id": "822ac71a-3b8c-4ce1-ac18-1c01e2a7daab",
   "metadata": {
    "id": "822ac71a-3b8c-4ce1-ac18-1c01e2a7daab"
   },
   "outputs": [],
   "source": [
    "from sklearn.pipeline import Pipeline\n",
    "from sklearn.preprocessing import StandardScaler\n",
    "from sklearn.preprocessing import OneHotEncoder\n",
    "from sklearn.impute import SimpleImputer\n",
    "from sklearn.compose import ColumnTransformer\n",
    "from sklearn.ensemble import RandomForestRegressor\n",
    "from sklearn.model_selection import train_test_split, GridSearchCV\n",
    "from sklearn.linear_model import LinearRegression"
   ]
  },
  {
   "cell_type": "code",
   "execution_count": 318,
   "id": "7AlkuTohbQwd",
   "metadata": {
    "id": "7AlkuTohbQwd"
   },
   "outputs": [],
   "source": [
    "from sklearn.compose import make_column_selector\n",
    "\n",
    "categorical_cols=make_column_selector(dtype_include='object')\n",
    "numerical_cols=make_column_selector(dtype_include='number')"
   ]
  },
  {
   "cell_type": "code",
   "execution_count": 319,
   "id": "xfERU1UXbr3F",
   "metadata": {
    "id": "xfERU1UXbr3F"
   },
   "outputs": [],
   "source": [
    "numerical_transformer = Pipeline(steps=[\n",
    "    ('imputer', SimpleImputer(strategy='median')),\n",
    "    ('scaler', StandardScaler())\n",
    "])"
   ]
  },
  {
   "cell_type": "code",
   "execution_count": 320,
   "id": "ag3hUcxqb3af",
   "metadata": {
    "id": "ag3hUcxqb3af"
   },
   "outputs": [],
   "source": [
    "categorical_transformer = Pipeline(steps=[\n",
    "    ('imputer', SimpleImputer(strategy='most_frequent')),\n",
    "    ('ohe', OneHotEncoder(handle_unknown='ignore'))\n",
    "])"
   ]
  },
  {
   "cell_type": "code",
   "execution_count": 321,
   "id": "2467be3b-4e1c-4d9a-a45b-66850f525d0f",
   "metadata": {
    "id": "2467be3b-4e1c-4d9a-a45b-66850f525d0f"
   },
   "outputs": [],
   "source": [
    "preprocessor = ColumnTransformer(\n",
    "    transformers=[\n",
    "        ('num', numerical_transformer, numerical_cols),\n",
    "        ('cat', categorical_transformer, categorical_cols)\n",
    "    ])\n"
   ]
  },
  {
   "cell_type": "code",
   "execution_count": 322,
   "id": "UlCWAEBNdsgE",
   "metadata": {
    "id": "UlCWAEBNdsgE"
   },
   "outputs": [],
   "source": [
    "pipeline = Pipeline([\n",
    "    ('preprocessor', preprocessor),\n",
    "    ('model', LinearRegression())\n",
    "])\n"
   ]
  },
  {
   "cell_type": "code",
   "execution_count": 323,
   "id": "dbd8c96d-348b-49ed-a96d-5a0471ef4308",
   "metadata": {
    "id": "dbd8c96d-348b-49ed-a96d-5a0471ef4308"
   },
   "outputs": [],
   "source": [
    "X = df.drop('ümumi satış',axis=1)\n",
    "y = df['ümumi satış']\n",
    "\n",
    "X_train, X_test, y_train, y_test = train_test_split(X, y, test_size=0.2, random_state=42)\n"
   ]
  },
  {
   "cell_type": "code",
   "execution_count": 324,
   "id": "23d95ea1-2b03-4dd6-b027-a3b6dcf35d37",
   "metadata": {
    "colab": {
     "base_uri": "https://localhost:8080/",
     "height": 225
    },
    "id": "23d95ea1-2b03-4dd6-b027-a3b6dcf35d37",
    "outputId": "af9ec0f6-eee0-4893-ffba-701d9b44c63d"
   },
   "outputs": [
    {
     "data": {
      "text/html": [
       "<style>#sk-container-id-5 {\n",
       "  /* Definition of color scheme common for light and dark mode */\n",
       "  --sklearn-color-text: black;\n",
       "  --sklearn-color-line: gray;\n",
       "  /* Definition of color scheme for unfitted estimators */\n",
       "  --sklearn-color-unfitted-level-0: #fff5e6;\n",
       "  --sklearn-color-unfitted-level-1: #f6e4d2;\n",
       "  --sklearn-color-unfitted-level-2: #ffe0b3;\n",
       "  --sklearn-color-unfitted-level-3: chocolate;\n",
       "  /* Definition of color scheme for fitted estimators */\n",
       "  --sklearn-color-fitted-level-0: #f0f8ff;\n",
       "  --sklearn-color-fitted-level-1: #d4ebff;\n",
       "  --sklearn-color-fitted-level-2: #b3dbfd;\n",
       "  --sklearn-color-fitted-level-3: cornflowerblue;\n",
       "\n",
       "  /* Specific color for light theme */\n",
       "  --sklearn-color-text-on-default-background: var(--sg-text-color, var(--theme-code-foreground, var(--jp-content-font-color1, black)));\n",
       "  --sklearn-color-background: var(--sg-background-color, var(--theme-background, var(--jp-layout-color0, white)));\n",
       "  --sklearn-color-border-box: var(--sg-text-color, var(--theme-code-foreground, var(--jp-content-font-color1, black)));\n",
       "  --sklearn-color-icon: #696969;\n",
       "\n",
       "  @media (prefers-color-scheme: dark) {\n",
       "    /* Redefinition of color scheme for dark theme */\n",
       "    --sklearn-color-text-on-default-background: var(--sg-text-color, var(--theme-code-foreground, var(--jp-content-font-color1, white)));\n",
       "    --sklearn-color-background: var(--sg-background-color, var(--theme-background, var(--jp-layout-color0, #111)));\n",
       "    --sklearn-color-border-box: var(--sg-text-color, var(--theme-code-foreground, var(--jp-content-font-color1, white)));\n",
       "    --sklearn-color-icon: #878787;\n",
       "  }\n",
       "}\n",
       "\n",
       "#sk-container-id-5 {\n",
       "  color: var(--sklearn-color-text);\n",
       "}\n",
       "\n",
       "#sk-container-id-5 pre {\n",
       "  padding: 0;\n",
       "}\n",
       "\n",
       "#sk-container-id-5 input.sk-hidden--visually {\n",
       "  border: 0;\n",
       "  clip: rect(1px 1px 1px 1px);\n",
       "  clip: rect(1px, 1px, 1px, 1px);\n",
       "  height: 1px;\n",
       "  margin: -1px;\n",
       "  overflow: hidden;\n",
       "  padding: 0;\n",
       "  position: absolute;\n",
       "  width: 1px;\n",
       "}\n",
       "\n",
       "#sk-container-id-5 div.sk-dashed-wrapped {\n",
       "  border: 1px dashed var(--sklearn-color-line);\n",
       "  margin: 0 0.4em 0.5em 0.4em;\n",
       "  box-sizing: border-box;\n",
       "  padding-bottom: 0.4em;\n",
       "  background-color: var(--sklearn-color-background);\n",
       "}\n",
       "\n",
       "#sk-container-id-5 div.sk-container {\n",
       "  /* jupyter's `normalize.less` sets `[hidden] { display: none; }`\n",
       "     but bootstrap.min.css set `[hidden] { display: none !important; }`\n",
       "     so we also need the `!important` here to be able to override the\n",
       "     default hidden behavior on the sphinx rendered scikit-learn.org.\n",
       "     See: https://github.com/scikit-learn/scikit-learn/issues/21755 */\n",
       "  display: inline-block !important;\n",
       "  position: relative;\n",
       "}\n",
       "\n",
       "#sk-container-id-5 div.sk-text-repr-fallback {\n",
       "  display: none;\n",
       "}\n",
       "\n",
       "div.sk-parallel-item,\n",
       "div.sk-serial,\n",
       "div.sk-item {\n",
       "  /* draw centered vertical line to link estimators */\n",
       "  background-image: linear-gradient(var(--sklearn-color-text-on-default-background), var(--sklearn-color-text-on-default-background));\n",
       "  background-size: 2px 100%;\n",
       "  background-repeat: no-repeat;\n",
       "  background-position: center center;\n",
       "}\n",
       "\n",
       "/* Parallel-specific style estimator block */\n",
       "\n",
       "#sk-container-id-5 div.sk-parallel-item::after {\n",
       "  content: \"\";\n",
       "  width: 100%;\n",
       "  border-bottom: 2px solid var(--sklearn-color-text-on-default-background);\n",
       "  flex-grow: 1;\n",
       "}\n",
       "\n",
       "#sk-container-id-5 div.sk-parallel {\n",
       "  display: flex;\n",
       "  align-items: stretch;\n",
       "  justify-content: center;\n",
       "  background-color: var(--sklearn-color-background);\n",
       "  position: relative;\n",
       "}\n",
       "\n",
       "#sk-container-id-5 div.sk-parallel-item {\n",
       "  display: flex;\n",
       "  flex-direction: column;\n",
       "}\n",
       "\n",
       "#sk-container-id-5 div.sk-parallel-item:first-child::after {\n",
       "  align-self: flex-end;\n",
       "  width: 50%;\n",
       "}\n",
       "\n",
       "#sk-container-id-5 div.sk-parallel-item:last-child::after {\n",
       "  align-self: flex-start;\n",
       "  width: 50%;\n",
       "}\n",
       "\n",
       "#sk-container-id-5 div.sk-parallel-item:only-child::after {\n",
       "  width: 0;\n",
       "}\n",
       "\n",
       "/* Serial-specific style estimator block */\n",
       "\n",
       "#sk-container-id-5 div.sk-serial {\n",
       "  display: flex;\n",
       "  flex-direction: column;\n",
       "  align-items: center;\n",
       "  background-color: var(--sklearn-color-background);\n",
       "  padding-right: 1em;\n",
       "  padding-left: 1em;\n",
       "}\n",
       "\n",
       "\n",
       "/* Toggleable style: style used for estimator/Pipeline/ColumnTransformer box that is\n",
       "clickable and can be expanded/collapsed.\n",
       "- Pipeline and ColumnTransformer use this feature and define the default style\n",
       "- Estimators will overwrite some part of the style using the `sk-estimator` class\n",
       "*/\n",
       "\n",
       "/* Pipeline and ColumnTransformer style (default) */\n",
       "\n",
       "#sk-container-id-5 div.sk-toggleable {\n",
       "  /* Default theme specific background. It is overwritten whether we have a\n",
       "  specific estimator or a Pipeline/ColumnTransformer */\n",
       "  background-color: var(--sklearn-color-background);\n",
       "}\n",
       "\n",
       "/* Toggleable label */\n",
       "#sk-container-id-5 label.sk-toggleable__label {\n",
       "  cursor: pointer;\n",
       "  display: block;\n",
       "  width: 100%;\n",
       "  margin-bottom: 0;\n",
       "  padding: 0.5em;\n",
       "  box-sizing: border-box;\n",
       "  text-align: center;\n",
       "}\n",
       "\n",
       "#sk-container-id-5 label.sk-toggleable__label-arrow:before {\n",
       "  /* Arrow on the left of the label */\n",
       "  content: \"▸\";\n",
       "  float: left;\n",
       "  margin-right: 0.25em;\n",
       "  color: var(--sklearn-color-icon);\n",
       "}\n",
       "\n",
       "#sk-container-id-5 label.sk-toggleable__label-arrow:hover:before {\n",
       "  color: var(--sklearn-color-text);\n",
       "}\n",
       "\n",
       "/* Toggleable content - dropdown */\n",
       "\n",
       "#sk-container-id-5 div.sk-toggleable__content {\n",
       "  max-height: 0;\n",
       "  max-width: 0;\n",
       "  overflow: hidden;\n",
       "  text-align: left;\n",
       "  /* unfitted */\n",
       "  background-color: var(--sklearn-color-unfitted-level-0);\n",
       "}\n",
       "\n",
       "#sk-container-id-5 div.sk-toggleable__content.fitted {\n",
       "  /* fitted */\n",
       "  background-color: var(--sklearn-color-fitted-level-0);\n",
       "}\n",
       "\n",
       "#sk-container-id-5 div.sk-toggleable__content pre {\n",
       "  margin: 0.2em;\n",
       "  border-radius: 0.25em;\n",
       "  color: var(--sklearn-color-text);\n",
       "  /* unfitted */\n",
       "  background-color: var(--sklearn-color-unfitted-level-0);\n",
       "}\n",
       "\n",
       "#sk-container-id-5 div.sk-toggleable__content.fitted pre {\n",
       "  /* unfitted */\n",
       "  background-color: var(--sklearn-color-fitted-level-0);\n",
       "}\n",
       "\n",
       "#sk-container-id-5 input.sk-toggleable__control:checked~div.sk-toggleable__content {\n",
       "  /* Expand drop-down */\n",
       "  max-height: 200px;\n",
       "  max-width: 100%;\n",
       "  overflow: auto;\n",
       "}\n",
       "\n",
       "#sk-container-id-5 input.sk-toggleable__control:checked~label.sk-toggleable__label-arrow:before {\n",
       "  content: \"▾\";\n",
       "}\n",
       "\n",
       "/* Pipeline/ColumnTransformer-specific style */\n",
       "\n",
       "#sk-container-id-5 div.sk-label input.sk-toggleable__control:checked~label.sk-toggleable__label {\n",
       "  color: var(--sklearn-color-text);\n",
       "  background-color: var(--sklearn-color-unfitted-level-2);\n",
       "}\n",
       "\n",
       "#sk-container-id-5 div.sk-label.fitted input.sk-toggleable__control:checked~label.sk-toggleable__label {\n",
       "  background-color: var(--sklearn-color-fitted-level-2);\n",
       "}\n",
       "\n",
       "/* Estimator-specific style */\n",
       "\n",
       "/* Colorize estimator box */\n",
       "#sk-container-id-5 div.sk-estimator input.sk-toggleable__control:checked~label.sk-toggleable__label {\n",
       "  /* unfitted */\n",
       "  background-color: var(--sklearn-color-unfitted-level-2);\n",
       "}\n",
       "\n",
       "#sk-container-id-5 div.sk-estimator.fitted input.sk-toggleable__control:checked~label.sk-toggleable__label {\n",
       "  /* fitted */\n",
       "  background-color: var(--sklearn-color-fitted-level-2);\n",
       "}\n",
       "\n",
       "#sk-container-id-5 div.sk-label label.sk-toggleable__label,\n",
       "#sk-container-id-5 div.sk-label label {\n",
       "  /* The background is the default theme color */\n",
       "  color: var(--sklearn-color-text-on-default-background);\n",
       "}\n",
       "\n",
       "/* On hover, darken the color of the background */\n",
       "#sk-container-id-5 div.sk-label:hover label.sk-toggleable__label {\n",
       "  color: var(--sklearn-color-text);\n",
       "  background-color: var(--sklearn-color-unfitted-level-2);\n",
       "}\n",
       "\n",
       "/* Label box, darken color on hover, fitted */\n",
       "#sk-container-id-5 div.sk-label.fitted:hover label.sk-toggleable__label.fitted {\n",
       "  color: var(--sklearn-color-text);\n",
       "  background-color: var(--sklearn-color-fitted-level-2);\n",
       "}\n",
       "\n",
       "/* Estimator label */\n",
       "\n",
       "#sk-container-id-5 div.sk-label label {\n",
       "  font-family: monospace;\n",
       "  font-weight: bold;\n",
       "  display: inline-block;\n",
       "  line-height: 1.2em;\n",
       "}\n",
       "\n",
       "#sk-container-id-5 div.sk-label-container {\n",
       "  text-align: center;\n",
       "}\n",
       "\n",
       "/* Estimator-specific */\n",
       "#sk-container-id-5 div.sk-estimator {\n",
       "  font-family: monospace;\n",
       "  border: 1px dotted var(--sklearn-color-border-box);\n",
       "  border-radius: 0.25em;\n",
       "  box-sizing: border-box;\n",
       "  margin-bottom: 0.5em;\n",
       "  /* unfitted */\n",
       "  background-color: var(--sklearn-color-unfitted-level-0);\n",
       "}\n",
       "\n",
       "#sk-container-id-5 div.sk-estimator.fitted {\n",
       "  /* fitted */\n",
       "  background-color: var(--sklearn-color-fitted-level-0);\n",
       "}\n",
       "\n",
       "/* on hover */\n",
       "#sk-container-id-5 div.sk-estimator:hover {\n",
       "  /* unfitted */\n",
       "  background-color: var(--sklearn-color-unfitted-level-2);\n",
       "}\n",
       "\n",
       "#sk-container-id-5 div.sk-estimator.fitted:hover {\n",
       "  /* fitted */\n",
       "  background-color: var(--sklearn-color-fitted-level-2);\n",
       "}\n",
       "\n",
       "/* Specification for estimator info (e.g. \"i\" and \"?\") */\n",
       "\n",
       "/* Common style for \"i\" and \"?\" */\n",
       "\n",
       ".sk-estimator-doc-link,\n",
       "a:link.sk-estimator-doc-link,\n",
       "a:visited.sk-estimator-doc-link {\n",
       "  float: right;\n",
       "  font-size: smaller;\n",
       "  line-height: 1em;\n",
       "  font-family: monospace;\n",
       "  background-color: var(--sklearn-color-background);\n",
       "  border-radius: 1em;\n",
       "  height: 1em;\n",
       "  width: 1em;\n",
       "  text-decoration: none !important;\n",
       "  margin-left: 1ex;\n",
       "  /* unfitted */\n",
       "  border: var(--sklearn-color-unfitted-level-1) 1pt solid;\n",
       "  color: var(--sklearn-color-unfitted-level-1);\n",
       "}\n",
       "\n",
       ".sk-estimator-doc-link.fitted,\n",
       "a:link.sk-estimator-doc-link.fitted,\n",
       "a:visited.sk-estimator-doc-link.fitted {\n",
       "  /* fitted */\n",
       "  border: var(--sklearn-color-fitted-level-1) 1pt solid;\n",
       "  color: var(--sklearn-color-fitted-level-1);\n",
       "}\n",
       "\n",
       "/* On hover */\n",
       "div.sk-estimator:hover .sk-estimator-doc-link:hover,\n",
       ".sk-estimator-doc-link:hover,\n",
       "div.sk-label-container:hover .sk-estimator-doc-link:hover,\n",
       ".sk-estimator-doc-link:hover {\n",
       "  /* unfitted */\n",
       "  background-color: var(--sklearn-color-unfitted-level-3);\n",
       "  color: var(--sklearn-color-background);\n",
       "  text-decoration: none;\n",
       "}\n",
       "\n",
       "div.sk-estimator.fitted:hover .sk-estimator-doc-link.fitted:hover,\n",
       ".sk-estimator-doc-link.fitted:hover,\n",
       "div.sk-label-container:hover .sk-estimator-doc-link.fitted:hover,\n",
       ".sk-estimator-doc-link.fitted:hover {\n",
       "  /* fitted */\n",
       "  background-color: var(--sklearn-color-fitted-level-3);\n",
       "  color: var(--sklearn-color-background);\n",
       "  text-decoration: none;\n",
       "}\n",
       "\n",
       "/* Span, style for the box shown on hovering the info icon */\n",
       ".sk-estimator-doc-link span {\n",
       "  display: none;\n",
       "  z-index: 9999;\n",
       "  position: relative;\n",
       "  font-weight: normal;\n",
       "  right: .2ex;\n",
       "  padding: .5ex;\n",
       "  margin: .5ex;\n",
       "  width: min-content;\n",
       "  min-width: 20ex;\n",
       "  max-width: 50ex;\n",
       "  color: var(--sklearn-color-text);\n",
       "  box-shadow: 2pt 2pt 4pt #999;\n",
       "  /* unfitted */\n",
       "  background: var(--sklearn-color-unfitted-level-0);\n",
       "  border: .5pt solid var(--sklearn-color-unfitted-level-3);\n",
       "}\n",
       "\n",
       ".sk-estimator-doc-link.fitted span {\n",
       "  /* fitted */\n",
       "  background: var(--sklearn-color-fitted-level-0);\n",
       "  border: var(--sklearn-color-fitted-level-3);\n",
       "}\n",
       "\n",
       ".sk-estimator-doc-link:hover span {\n",
       "  display: block;\n",
       "}\n",
       "\n",
       "/* \"?\"-specific style due to the `<a>` HTML tag */\n",
       "\n",
       "#sk-container-id-5 a.estimator_doc_link {\n",
       "  float: right;\n",
       "  font-size: 1rem;\n",
       "  line-height: 1em;\n",
       "  font-family: monospace;\n",
       "  background-color: var(--sklearn-color-background);\n",
       "  border-radius: 1rem;\n",
       "  height: 1rem;\n",
       "  width: 1rem;\n",
       "  text-decoration: none;\n",
       "  /* unfitted */\n",
       "  color: var(--sklearn-color-unfitted-level-1);\n",
       "  border: var(--sklearn-color-unfitted-level-1) 1pt solid;\n",
       "}\n",
       "\n",
       "#sk-container-id-5 a.estimator_doc_link.fitted {\n",
       "  /* fitted */\n",
       "  border: var(--sklearn-color-fitted-level-1) 1pt solid;\n",
       "  color: var(--sklearn-color-fitted-level-1);\n",
       "}\n",
       "\n",
       "/* On hover */\n",
       "#sk-container-id-5 a.estimator_doc_link:hover {\n",
       "  /* unfitted */\n",
       "  background-color: var(--sklearn-color-unfitted-level-3);\n",
       "  color: var(--sklearn-color-background);\n",
       "  text-decoration: none;\n",
       "}\n",
       "\n",
       "#sk-container-id-5 a.estimator_doc_link.fitted:hover {\n",
       "  /* fitted */\n",
       "  background-color: var(--sklearn-color-fitted-level-3);\n",
       "}\n",
       "</style><div id=\"sk-container-id-5\" class=\"sk-top-container\"><div class=\"sk-text-repr-fallback\"><pre>Pipeline(steps=[(&#x27;preprocessor&#x27;,\n",
       "                 ColumnTransformer(transformers=[(&#x27;num&#x27;,\n",
       "                                                  Pipeline(steps=[(&#x27;imputer&#x27;,\n",
       "                                                                   SimpleImputer(strategy=&#x27;median&#x27;)),\n",
       "                                                                  (&#x27;scaler&#x27;,\n",
       "                                                                   StandardScaler())]),\n",
       "                                                  &lt;sklearn.compose._column_transformer.make_column_selector object at 0x000001B423D34820&gt;),\n",
       "                                                 (&#x27;cat&#x27;,\n",
       "                                                  Pipeline(steps=[(&#x27;imputer&#x27;,\n",
       "                                                                   SimpleImputer(strategy=&#x27;most_frequent&#x27;)),\n",
       "                                                                  (&#x27;ohe&#x27;,\n",
       "                                                                   OneHotEncoder(handle_unknown=&#x27;ignore&#x27;))]),\n",
       "                                                  &lt;sklearn.compose._column_transformer.make_column_selector object at 0x000001B423D36740&gt;)])),\n",
       "                (&#x27;model&#x27;, LinearRegression())])</pre><b>In a Jupyter environment, please rerun this cell to show the HTML representation or trust the notebook. <br />On GitHub, the HTML representation is unable to render, please try loading this page with nbviewer.org.</b></div><div class=\"sk-container\" hidden><div class=\"sk-item sk-dashed-wrapped\"><div class=\"sk-label-container\"><div class=\"sk-label fitted sk-toggleable\"><input class=\"sk-toggleable__control sk-hidden--visually\" id=\"sk-estimator-id-37\" type=\"checkbox\" ><label for=\"sk-estimator-id-37\" class=\"sk-toggleable__label fitted sk-toggleable__label-arrow fitted\">&nbsp;&nbsp;Pipeline<a class=\"sk-estimator-doc-link fitted\" rel=\"noreferrer\" target=\"_blank\" href=\"https://scikit-learn.org/1.5/modules/generated/sklearn.pipeline.Pipeline.html\">?<span>Documentation for Pipeline</span></a><span class=\"sk-estimator-doc-link fitted\">i<span>Fitted</span></span></label><div class=\"sk-toggleable__content fitted\"><pre>Pipeline(steps=[(&#x27;preprocessor&#x27;,\n",
       "                 ColumnTransformer(transformers=[(&#x27;num&#x27;,\n",
       "                                                  Pipeline(steps=[(&#x27;imputer&#x27;,\n",
       "                                                                   SimpleImputer(strategy=&#x27;median&#x27;)),\n",
       "                                                                  (&#x27;scaler&#x27;,\n",
       "                                                                   StandardScaler())]),\n",
       "                                                  &lt;sklearn.compose._column_transformer.make_column_selector object at 0x000001B423D34820&gt;),\n",
       "                                                 (&#x27;cat&#x27;,\n",
       "                                                  Pipeline(steps=[(&#x27;imputer&#x27;,\n",
       "                                                                   SimpleImputer(strategy=&#x27;most_frequent&#x27;)),\n",
       "                                                                  (&#x27;ohe&#x27;,\n",
       "                                                                   OneHotEncoder(handle_unknown=&#x27;ignore&#x27;))]),\n",
       "                                                  &lt;sklearn.compose._column_transformer.make_column_selector object at 0x000001B423D36740&gt;)])),\n",
       "                (&#x27;model&#x27;, LinearRegression())])</pre></div> </div></div><div class=\"sk-serial\"><div class=\"sk-item sk-dashed-wrapped\"><div class=\"sk-label-container\"><div class=\"sk-label fitted sk-toggleable\"><input class=\"sk-toggleable__control sk-hidden--visually\" id=\"sk-estimator-id-38\" type=\"checkbox\" ><label for=\"sk-estimator-id-38\" class=\"sk-toggleable__label fitted sk-toggleable__label-arrow fitted\">&nbsp;preprocessor: ColumnTransformer<a class=\"sk-estimator-doc-link fitted\" rel=\"noreferrer\" target=\"_blank\" href=\"https://scikit-learn.org/1.5/modules/generated/sklearn.compose.ColumnTransformer.html\">?<span>Documentation for preprocessor: ColumnTransformer</span></a></label><div class=\"sk-toggleable__content fitted\"><pre>ColumnTransformer(transformers=[(&#x27;num&#x27;,\n",
       "                                 Pipeline(steps=[(&#x27;imputer&#x27;,\n",
       "                                                  SimpleImputer(strategy=&#x27;median&#x27;)),\n",
       "                                                 (&#x27;scaler&#x27;, StandardScaler())]),\n",
       "                                 &lt;sklearn.compose._column_transformer.make_column_selector object at 0x000001B423D34820&gt;),\n",
       "                                (&#x27;cat&#x27;,\n",
       "                                 Pipeline(steps=[(&#x27;imputer&#x27;,\n",
       "                                                  SimpleImputer(strategy=&#x27;most_frequent&#x27;)),\n",
       "                                                 (&#x27;ohe&#x27;,\n",
       "                                                  OneHotEncoder(handle_unknown=&#x27;ignore&#x27;))]),\n",
       "                                 &lt;sklearn.compose._column_transformer.make_column_selector object at 0x000001B423D36740&gt;)])</pre></div> </div></div><div class=\"sk-parallel\"><div class=\"sk-parallel-item\"><div class=\"sk-item\"><div class=\"sk-label-container\"><div class=\"sk-label fitted sk-toggleable\"><input class=\"sk-toggleable__control sk-hidden--visually\" id=\"sk-estimator-id-39\" type=\"checkbox\" ><label for=\"sk-estimator-id-39\" class=\"sk-toggleable__label fitted sk-toggleable__label-arrow fitted\">num</label><div class=\"sk-toggleable__content fitted\"><pre>&lt;sklearn.compose._column_transformer.make_column_selector object at 0x000001B423D34820&gt;</pre></div> </div></div><div class=\"sk-serial\"><div class=\"sk-item\"><div class=\"sk-serial\"><div class=\"sk-item\"><div class=\"sk-estimator fitted sk-toggleable\"><input class=\"sk-toggleable__control sk-hidden--visually\" id=\"sk-estimator-id-40\" type=\"checkbox\" ><label for=\"sk-estimator-id-40\" class=\"sk-toggleable__label fitted sk-toggleable__label-arrow fitted\">&nbsp;SimpleImputer<a class=\"sk-estimator-doc-link fitted\" rel=\"noreferrer\" target=\"_blank\" href=\"https://scikit-learn.org/1.5/modules/generated/sklearn.impute.SimpleImputer.html\">?<span>Documentation for SimpleImputer</span></a></label><div class=\"sk-toggleable__content fitted\"><pre>SimpleImputer(strategy=&#x27;median&#x27;)</pre></div> </div></div><div class=\"sk-item\"><div class=\"sk-estimator fitted sk-toggleable\"><input class=\"sk-toggleable__control sk-hidden--visually\" id=\"sk-estimator-id-41\" type=\"checkbox\" ><label for=\"sk-estimator-id-41\" class=\"sk-toggleable__label fitted sk-toggleable__label-arrow fitted\">&nbsp;StandardScaler<a class=\"sk-estimator-doc-link fitted\" rel=\"noreferrer\" target=\"_blank\" href=\"https://scikit-learn.org/1.5/modules/generated/sklearn.preprocessing.StandardScaler.html\">?<span>Documentation for StandardScaler</span></a></label><div class=\"sk-toggleable__content fitted\"><pre>StandardScaler()</pre></div> </div></div></div></div></div></div></div><div class=\"sk-parallel-item\"><div class=\"sk-item\"><div class=\"sk-label-container\"><div class=\"sk-label fitted sk-toggleable\"><input class=\"sk-toggleable__control sk-hidden--visually\" id=\"sk-estimator-id-42\" type=\"checkbox\" ><label for=\"sk-estimator-id-42\" class=\"sk-toggleable__label fitted sk-toggleable__label-arrow fitted\">cat</label><div class=\"sk-toggleable__content fitted\"><pre>&lt;sklearn.compose._column_transformer.make_column_selector object at 0x000001B423D36740&gt;</pre></div> </div></div><div class=\"sk-serial\"><div class=\"sk-item\"><div class=\"sk-serial\"><div class=\"sk-item\"><div class=\"sk-estimator fitted sk-toggleable\"><input class=\"sk-toggleable__control sk-hidden--visually\" id=\"sk-estimator-id-43\" type=\"checkbox\" ><label for=\"sk-estimator-id-43\" class=\"sk-toggleable__label fitted sk-toggleable__label-arrow fitted\">&nbsp;SimpleImputer<a class=\"sk-estimator-doc-link fitted\" rel=\"noreferrer\" target=\"_blank\" href=\"https://scikit-learn.org/1.5/modules/generated/sklearn.impute.SimpleImputer.html\">?<span>Documentation for SimpleImputer</span></a></label><div class=\"sk-toggleable__content fitted\"><pre>SimpleImputer(strategy=&#x27;most_frequent&#x27;)</pre></div> </div></div><div class=\"sk-item\"><div class=\"sk-estimator fitted sk-toggleable\"><input class=\"sk-toggleable__control sk-hidden--visually\" id=\"sk-estimator-id-44\" type=\"checkbox\" ><label for=\"sk-estimator-id-44\" class=\"sk-toggleable__label fitted sk-toggleable__label-arrow fitted\">&nbsp;OneHotEncoder<a class=\"sk-estimator-doc-link fitted\" rel=\"noreferrer\" target=\"_blank\" href=\"https://scikit-learn.org/1.5/modules/generated/sklearn.preprocessing.OneHotEncoder.html\">?<span>Documentation for OneHotEncoder</span></a></label><div class=\"sk-toggleable__content fitted\"><pre>OneHotEncoder(handle_unknown=&#x27;ignore&#x27;)</pre></div> </div></div></div></div></div></div></div></div></div><div class=\"sk-item\"><div class=\"sk-estimator fitted sk-toggleable\"><input class=\"sk-toggleable__control sk-hidden--visually\" id=\"sk-estimator-id-45\" type=\"checkbox\" ><label for=\"sk-estimator-id-45\" class=\"sk-toggleable__label fitted sk-toggleable__label-arrow fitted\">&nbsp;LinearRegression<a class=\"sk-estimator-doc-link fitted\" rel=\"noreferrer\" target=\"_blank\" href=\"https://scikit-learn.org/1.5/modules/generated/sklearn.linear_model.LinearRegression.html\">?<span>Documentation for LinearRegression</span></a></label><div class=\"sk-toggleable__content fitted\"><pre>LinearRegression()</pre></div> </div></div></div></div></div></div>"
      ],
      "text/plain": [
       "Pipeline(steps=[('preprocessor',\n",
       "                 ColumnTransformer(transformers=[('num',\n",
       "                                                  Pipeline(steps=[('imputer',\n",
       "                                                                   SimpleImputer(strategy='median')),\n",
       "                                                                  ('scaler',\n",
       "                                                                   StandardScaler())]),\n",
       "                                                  <sklearn.compose._column_transformer.make_column_selector object at 0x000001B423D34820>),\n",
       "                                                 ('cat',\n",
       "                                                  Pipeline(steps=[('imputer',\n",
       "                                                                   SimpleImputer(strategy='most_frequent')),\n",
       "                                                                  ('ohe',\n",
       "                                                                   OneHotEncoder(handle_unknown='ignore'))]),\n",
       "                                                  <sklearn.compose._column_transformer.make_column_selector object at 0x000001B423D36740>)])),\n",
       "                ('model', LinearRegression())])"
      ]
     },
     "execution_count": 324,
     "metadata": {},
     "output_type": "execute_result"
    }
   ],
   "source": [
    "pipeline.fit(X_train, y_train)\n"
   ]
  },
  {
   "cell_type": "code",
   "execution_count": 325,
   "id": "ab9e17df-8aef-4ade-bf29-1e4430267c85",
   "metadata": {
    "id": "ab9e17df-8aef-4ade-bf29-1e4430267c85"
   },
   "outputs": [],
   "source": [
    "predictions = pipeline.predict(X_test)\n"
   ]
  },
  {
   "cell_type": "code",
   "execution_count": 326,
   "id": "vq_UWpCQd8z-",
   "metadata": {
    "colab": {
     "base_uri": "https://localhost:8080/"
    },
    "id": "vq_UWpCQd8z-",
    "outputId": "97f8ac90-8ce4-4eb9-c9b0-c4e2e4d833dd"
   },
   "outputs": [
    {
     "data": {
      "text/plain": [
       "array([11.20079622,  7.57054821,  7.57464277, ...,  5.25581988,\n",
       "        6.61566545,  0.53175553])"
      ]
     },
     "execution_count": 326,
     "metadata": {},
     "output_type": "execute_result"
    }
   ],
   "source": [
    "predictions"
   ]
  },
  {
   "cell_type": "code",
   "execution_count": 327,
   "id": "FK-BeMO7d_C5",
   "metadata": {
    "colab": {
     "base_uri": "https://localhost:8080/"
    },
    "id": "FK-BeMO7d_C5",
    "outputId": "6fab0b2b-27cf-401d-f152-b6bd4296756e"
   },
   "outputs": [
    {
     "name": "stdout",
     "output_type": "stream",
     "text": [
      "Mean Squared Error: 0.12255781229839391\n",
      "R² Score: 0.9733379124346127\n"
     ]
    }
   ],
   "source": [
    "from sklearn.metrics import mean_squared_error, r2_score\n",
    "\n",
    "mse = mean_squared_error(y_test, predictions)\n",
    "print(f\"Mean Squared Error: {mse}\")\n",
    "\n",
    "r2 = r2_score(y_test, predictions)\n",
    "print(f\"R² Score: {r2}\")\n"
   ]
  },
  {
   "cell_type": "code",
   "execution_count": 328,
   "id": "4Ki3laHmeher",
   "metadata": {
    "id": "4Ki3laHmeher"
   },
   "outputs": [],
   "source": [
    "y_train_pred = pipeline.predict(X_train)"
   ]
  },
  {
   "cell_type": "code",
   "execution_count": 329,
   "id": "04cbd4ea",
   "metadata": {},
   "outputs": [
    {
     "data": {
      "text/plain": [
       "0.9789205870213673"
      ]
     },
     "execution_count": 329,
     "metadata": {},
     "output_type": "execute_result"
    }
   ],
   "source": [
    "r2_score(y_train, y_train_pred)"
   ]
  },
  {
   "cell_type": "code",
   "execution_count": 330,
   "id": "e4b1ef4c",
   "metadata": {},
   "outputs": [
    {
     "data": {
      "text/plain": [
       "0.9733379124346127"
      ]
     },
     "execution_count": 330,
     "metadata": {},
     "output_type": "execute_result"
    }
   ],
   "source": [
    "r2_score(y_test, predictions)"
   ]
  },
  {
   "cell_type": "code",
   "execution_count": 331,
   "id": "6914e9cc",
   "metadata": {},
   "outputs": [
    {
     "data": {
      "text/plain": [
       "0.09814708237767823"
      ]
     },
     "execution_count": 331,
     "metadata": {},
     "output_type": "execute_result"
    }
   ],
   "source": [
    "mean_squared_error(y_train, y_train_pred)"
   ]
  },
  {
   "cell_type": "code",
   "execution_count": null,
   "id": "498a88ba",
   "metadata": {},
   "outputs": [],
   "source": []
  }
 ],
 "metadata": {
  "colab": {
   "provenance": []
  },
  "kernelspec": {
   "display_name": "Python 3 (ipykernel)",
   "language": "python",
   "name": "python3"
  },
  "language_info": {
   "codemirror_mode": {
    "name": "ipython",
    "version": 3
   },
   "file_extension": ".py",
   "mimetype": "text/x-python",
   "name": "python",
   "nbconvert_exporter": "python",
   "pygments_lexer": "ipython3",
   "version": "3.10.9"
  }
 },
 "nbformat": 4,
 "nbformat_minor": 5
}
