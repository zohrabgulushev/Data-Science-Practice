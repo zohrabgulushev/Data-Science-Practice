{
 "cells": [
  {
   "cell_type": "code",
   "execution_count": 39,
   "id": "f6a274ae-d02c-47de-ab53-baa7608aaa1b",
   "metadata": {},
   "outputs": [],
   "source": [
    "import pandas as pd\n",
    "import numpy as np\n",
    "import matplotlib.pyplot as plt\n",
    "import seaborn as sns\n",
    "import warnings\n",
    "warnings.filterwarnings(\"ignore\")\n",
    "\n",
    "from sklearn.model_selection import train_test_split, cross_val_predict, KFold\n",
    "from sklearn.ensemble import RandomForestRegressor, GradientBoostingRegressor\n",
    "from sklearn.metrics import mean_absolute_error, mean_squared_error, r2_score\n",
    "from sklearn.linear_model import LinearRegression, Lasso\n",
    "from sklearn.preprocessing import StandardScaler, OrdinalEncoder\n",
    "from sklearn.impute import SimpleImputer\n",
    "import category_encoders as ce\n",
    "from sklearn.decomposition import PCA\n",
    "from statsmodels.stats.outliers_influence import variance_inflation_factor as VIF"
   ]
  },
  {
   "cell_type": "code",
   "execution_count": 40,
   "id": "acbedc28-61ed-4b0e-b378-30503fcb3260",
   "metadata": {},
   "outputs": [
    {
     "data": {
      "text/html": [
       "<div>\n",
       "<style scoped>\n",
       "    .dataframe tbody tr th:only-of-type {\n",
       "        vertical-align: middle;\n",
       "    }\n",
       "\n",
       "    .dataframe tbody tr th {\n",
       "        vertical-align: top;\n",
       "    }\n",
       "\n",
       "    .dataframe thead th {\n",
       "        text-align: right;\n",
       "    }\n",
       "</style>\n",
       "<table border=\"1\" class=\"dataframe\">\n",
       "  <thead>\n",
       "    <tr style=\"text-align: right;\">\n",
       "      <th></th>\n",
       "      <th>Avtosalon</th>\n",
       "      <th>Qiymet</th>\n",
       "      <th>Valyuta</th>\n",
       "      <th>Şəhər</th>\n",
       "      <th>Marka</th>\n",
       "      <th>Model</th>\n",
       "      <th>Buraxılış ili</th>\n",
       "      <th>Ban növü</th>\n",
       "      <th>Rəng</th>\n",
       "      <th>Mühərrik</th>\n",
       "      <th>...</th>\n",
       "      <th>Yeni</th>\n",
       "      <th>Vəziyyəti</th>\n",
       "      <th>Yeniləndi</th>\n",
       "      <th>Baxışların sayı</th>\n",
       "      <th>Extra</th>\n",
       "      <th>Etrafli</th>\n",
       "      <th>Sahiblər</th>\n",
       "      <th>Hansı bazar üçün yığılıb</th>\n",
       "      <th>Yerlərin sayı</th>\n",
       "      <th>Qəzalı</th>\n",
       "    </tr>\n",
       "  </thead>\n",
       "  <tbody>\n",
       "    <tr>\n",
       "      <th>0</th>\n",
       "      <td>0</td>\n",
       "      <td>13500</td>\n",
       "      <td>AZN</td>\n",
       "      <td>Bakı</td>\n",
       "      <td>Opel</td>\n",
       "      <td>Vectra</td>\n",
       "      <td>2000</td>\n",
       "      <td>Hetçbek</td>\n",
       "      <td>Göy</td>\n",
       "      <td>1.6 L/101 a.g./Benzin</td>\n",
       "      <td>...</td>\n",
       "      <td>Xeyr</td>\n",
       "      <td>Vuruğu yoxdur, rənglənib</td>\n",
       "      <td>28.05.2023</td>\n",
       "      <td>267</td>\n",
       "      <td>Yüngül lehimli disklər, ABS, Kondisioner, Dəri...</td>\n",
       "      <td>Salam Barter mümkündür. 1.6 sadə mator mexanik...</td>\n",
       "      <td>2</td>\n",
       "      <td>Avropa</td>\n",
       "      <td>5</td>\n",
       "      <td>NaN</td>\n",
       "    </tr>\n",
       "    <tr>\n",
       "      <th>1</th>\n",
       "      <td>1</td>\n",
       "      <td>23500</td>\n",
       "      <td>USD</td>\n",
       "      <td>Bakı</td>\n",
       "      <td>Toyota</td>\n",
       "      <td>Corolla</td>\n",
       "      <td>2023</td>\n",
       "      <td>Sedan</td>\n",
       "      <td>Mavi</td>\n",
       "      <td>1.8 L/178 a.g./Hibrid</td>\n",
       "      <td>...</td>\n",
       "      <td>Bəli</td>\n",
       "      <td>Vuruğu yoxdur, rənglənməyib</td>\n",
       "      <td>28.05.2023</td>\n",
       "      <td>12410</td>\n",
       "      <td>Yüngül lehimli disklər, ABS, Yağış sensoru, Mə...</td>\n",
       "      <td>TOYOTA CAROLLA 2023 ALIŞ. 2 İL 80.000 KM ZƏMAN...</td>\n",
       "      <td>1</td>\n",
       "      <td>Rəsmi diler</td>\n",
       "      <td>5</td>\n",
       "      <td>NaN</td>\n",
       "    </tr>\n",
       "    <tr>\n",
       "      <th>2</th>\n",
       "      <td>0</td>\n",
       "      <td>33200</td>\n",
       "      <td>AZN</td>\n",
       "      <td>Bakı</td>\n",
       "      <td>Hyundai</td>\n",
       "      <td>Santa Fe</td>\n",
       "      <td>2013</td>\n",
       "      <td>Offroader / SUV</td>\n",
       "      <td>Qara</td>\n",
       "      <td>2.0 L/184 a.g./Dizel</td>\n",
       "      <td>...</td>\n",
       "      <td>Xeyr</td>\n",
       "      <td>Vuruğu yoxdur, rənglənməyib</td>\n",
       "      <td>28.05.2023</td>\n",
       "      <td>148</td>\n",
       "      <td>Yüngül lehimli disklər, ABS, Lyuk, Yağış senso...</td>\n",
       "      <td>Yeni gelib bakida surlmuyb qiymet mawin yanind...</td>\n",
       "      <td>1</td>\n",
       "      <td>Avropa</td>\n",
       "      <td>7</td>\n",
       "      <td>NaN</td>\n",
       "    </tr>\n",
       "    <tr>\n",
       "      <th>3</th>\n",
       "      <td>0</td>\n",
       "      <td>17000</td>\n",
       "      <td>AZN</td>\n",
       "      <td>Bakı</td>\n",
       "      <td>Ford</td>\n",
       "      <td>Fusion</td>\n",
       "      <td>2015</td>\n",
       "      <td>Sedan</td>\n",
       "      <td>Göy</td>\n",
       "      <td>1.5 L/181 a.g./Benzin</td>\n",
       "      <td>...</td>\n",
       "      <td>Xeyr</td>\n",
       "      <td>Vuruğu yoxdur, rənglənməyib</td>\n",
       "      <td>25.05.2023</td>\n",
       "      <td>3358</td>\n",
       "      <td>Yüngül lehimli disklər, ABS, Yağış sensoru, Mə...</td>\n",
       "      <td>Maşın xanım tərəfindən idarə olunub</td>\n",
       "      <td>NaN</td>\n",
       "      <td>NaN</td>\n",
       "      <td>NaN</td>\n",
       "      <td>NaN</td>\n",
       "    </tr>\n",
       "    <tr>\n",
       "      <th>4</th>\n",
       "      <td>0</td>\n",
       "      <td>36000</td>\n",
       "      <td>USD</td>\n",
       "      <td>Bakı</td>\n",
       "      <td>Toyota</td>\n",
       "      <td>RAV4</td>\n",
       "      <td>2022</td>\n",
       "      <td>Offroader / SUV</td>\n",
       "      <td>Qara</td>\n",
       "      <td>2.0 L/173 a.g./Benzin</td>\n",
       "      <td>...</td>\n",
       "      <td>Bəli</td>\n",
       "      <td>Vuruğu yoxdur, rənglənməyib</td>\n",
       "      <td>28.05.2023</td>\n",
       "      <td>16183</td>\n",
       "      <td>Yüngül lehimli disklər, ABS, Yağış sensoru, Mə...</td>\n",
       "      <td>Rəsmi dilerdən 10 il və ya 160.000 km zəmanəti...</td>\n",
       "      <td>1</td>\n",
       "      <td>NaN</td>\n",
       "      <td>5</td>\n",
       "      <td>NaN</td>\n",
       "    </tr>\n",
       "  </tbody>\n",
       "</table>\n",
       "<p>5 rows × 23 columns</p>\n",
       "</div>"
      ],
      "text/plain": [
       "   Avtosalon  Qiymet Valyuta Şəhər    Marka     Model  Buraxılış ili  \\\n",
       "0          0   13500     AZN  Bakı     Opel    Vectra           2000   \n",
       "1          1   23500     USD  Bakı   Toyota   Corolla           2023   \n",
       "2          0   33200     AZN  Bakı  Hyundai  Santa Fe           2013   \n",
       "3          0   17000     AZN  Bakı     Ford    Fusion           2015   \n",
       "4          0   36000     USD  Bakı   Toyota      RAV4           2022   \n",
       "\n",
       "          Ban növü  Rəng               Mühərrik  ...  Yeni  \\\n",
       "0          Hetçbek   Göy  1.6 L/101 a.g./Benzin  ...  Xeyr   \n",
       "1            Sedan  Mavi  1.8 L/178 a.g./Hibrid  ...  Bəli   \n",
       "2  Offroader / SUV  Qara   2.0 L/184 a.g./Dizel  ...  Xeyr   \n",
       "3            Sedan   Göy  1.5 L/181 a.g./Benzin  ...  Xeyr   \n",
       "4  Offroader / SUV  Qara  2.0 L/173 a.g./Benzin  ...  Bəli   \n",
       "\n",
       "                     Vəziyyəti    Yeniləndi Baxışların sayı  \\\n",
       "0     Vuruğu yoxdur, rənglənib   28.05.2023             267   \n",
       "1  Vuruğu yoxdur, rənglənməyib   28.05.2023           12410   \n",
       "2  Vuruğu yoxdur, rənglənməyib   28.05.2023             148   \n",
       "3  Vuruğu yoxdur, rənglənməyib   25.05.2023            3358   \n",
       "4  Vuruğu yoxdur, rənglənməyib   28.05.2023           16183   \n",
       "\n",
       "                                               Extra  \\\n",
       "0  Yüngül lehimli disklər, ABS, Kondisioner, Dəri...   \n",
       "1  Yüngül lehimli disklər, ABS, Yağış sensoru, Mə...   \n",
       "2  Yüngül lehimli disklər, ABS, Lyuk, Yağış senso...   \n",
       "3  Yüngül lehimli disklər, ABS, Yağış sensoru, Mə...   \n",
       "4  Yüngül lehimli disklər, ABS, Yağış sensoru, Mə...   \n",
       "\n",
       "                                             Etrafli  Sahiblər  \\\n",
       "0  Salam Barter mümkündür. 1.6 sadə mator mexanik...         2   \n",
       "1  TOYOTA CAROLLA 2023 ALIŞ. 2 İL 80.000 KM ZƏMAN...         1   \n",
       "2  Yeni gelib bakida surlmuyb qiymet mawin yanind...         1   \n",
       "3                Maşın xanım tərəfindən idarə olunub       NaN   \n",
       "4  Rəsmi dilerdən 10 il və ya 160.000 km zəmanəti...         1   \n",
       "\n",
       "  Hansı bazar üçün yığılıb Yerlərin sayı Qəzalı  \n",
       "0                   Avropa             5    NaN  \n",
       "1              Rəsmi diler             5    NaN  \n",
       "2                   Avropa             7    NaN  \n",
       "3                      NaN           NaN    NaN  \n",
       "4                      NaN             5    NaN  \n",
       "\n",
       "[5 rows x 23 columns]"
      ]
     },
     "execution_count": 40,
     "metadata": {},
     "output_type": "execute_result"
    }
   ],
   "source": [
    "df = pd.read_csv(\"intern_car_regg.csv\")\n",
    "df.head()"
   ]
  },
  {
   "cell_type": "code",
   "execution_count": 41,
   "id": "642f8c41-f7cf-4f09-962d-b588247b3ed4",
   "metadata": {},
   "outputs": [
    {
     "data": {
      "text/plain": [
       "(10000, 23)"
      ]
     },
     "execution_count": 41,
     "metadata": {},
     "output_type": "execute_result"
    }
   ],
   "source": [
    "df.shape"
   ]
  },
  {
   "cell_type": "code",
   "execution_count": 42,
   "id": "8b46ce83-c21f-46c0-9fc1-96cda55cbda0",
   "metadata": {},
   "outputs": [
    {
     "name": "stdout",
     "output_type": "stream",
     "text": [
      "<class 'pandas.core.frame.DataFrame'>\n",
      "RangeIndex: 10000 entries, 0 to 9999\n",
      "Data columns (total 23 columns):\n",
      " #   Column                    Non-Null Count  Dtype \n",
      "---  ------                    --------------  ----- \n",
      " 0   Avtosalon                 10000 non-null  int64 \n",
      " 1   Qiymet                    10000 non-null  int64 \n",
      " 2   Valyuta                   10000 non-null  object\n",
      " 3   Şəhər                     10000 non-null  object\n",
      " 4   Marka                     10000 non-null  object\n",
      " 5   Model                     10000 non-null  object\n",
      " 6   Buraxılış ili             10000 non-null  int64 \n",
      " 7   Ban növü                  10000 non-null  object\n",
      " 8   Rəng                      10000 non-null  object\n",
      " 9   Mühərrik                  10000 non-null  object\n",
      " 10  Yürüş                     10000 non-null  object\n",
      " 11  Sürətlər qutusu           10000 non-null  object\n",
      " 12  Ötürücü                   10000 non-null  object\n",
      " 13  Yeni                      10000 non-null  object\n",
      " 14  Vəziyyəti                 9972 non-null   object\n",
      " 15  Yeniləndi                 10000 non-null  object\n",
      " 16  Baxışların sayı           10000 non-null  int64 \n",
      " 17  Extra                     9236 non-null   object\n",
      " 18  Etrafli                   9718 non-null   object\n",
      " 19  Sahiblər                  6193 non-null   object\n",
      " 20  Hansı bazar üçün yığılıb  6702 non-null   object\n",
      " 21  Yerlərin sayı             6832 non-null   object\n",
      " 22  Qəzalı                    32 non-null     object\n",
      "dtypes: int64(4), object(19)\n",
      "memory usage: 1.8+ MB\n"
     ]
    }
   ],
   "source": [
    "df.info()"
   ]
  },
  {
   "cell_type": "code",
   "execution_count": 43,
   "id": "57b207a5-181c-4012-8c11-ec25d5d913a8",
   "metadata": {
    "scrolled": true
   },
   "outputs": [
    {
     "data": {
      "text/html": [
       "<div>\n",
       "<style scoped>\n",
       "    .dataframe tbody tr th:only-of-type {\n",
       "        vertical-align: middle;\n",
       "    }\n",
       "\n",
       "    .dataframe tbody tr th {\n",
       "        vertical-align: top;\n",
       "    }\n",
       "\n",
       "    .dataframe thead th {\n",
       "        text-align: right;\n",
       "    }\n",
       "</style>\n",
       "<table border=\"1\" class=\"dataframe\">\n",
       "  <thead>\n",
       "    <tr style=\"text-align: right;\">\n",
       "      <th></th>\n",
       "      <th>count</th>\n",
       "      <th>mean</th>\n",
       "      <th>std</th>\n",
       "      <th>min</th>\n",
       "      <th>25%</th>\n",
       "      <th>50%</th>\n",
       "      <th>75%</th>\n",
       "      <th>max</th>\n",
       "    </tr>\n",
       "  </thead>\n",
       "  <tbody>\n",
       "    <tr>\n",
       "      <th>Avtosalon</th>\n",
       "      <td>10000.0</td>\n",
       "      <td>0.2537</td>\n",
       "      <td>0.435150</td>\n",
       "      <td>0.0</td>\n",
       "      <td>0.00</td>\n",
       "      <td>0.0</td>\n",
       "      <td>1.00</td>\n",
       "      <td>1.0</td>\n",
       "    </tr>\n",
       "    <tr>\n",
       "      <th>Qiymet</th>\n",
       "      <td>10000.0</td>\n",
       "      <td>27318.5214</td>\n",
       "      <td>28995.789851</td>\n",
       "      <td>1100.0</td>\n",
       "      <td>12700.00</td>\n",
       "      <td>21000.0</td>\n",
       "      <td>32500.00</td>\n",
       "      <td>850000.0</td>\n",
       "    </tr>\n",
       "    <tr>\n",
       "      <th>Buraxılış ili</th>\n",
       "      <td>10000.0</td>\n",
       "      <td>2010.0679</td>\n",
       "      <td>8.386246</td>\n",
       "      <td>1938.0</td>\n",
       "      <td>2006.00</td>\n",
       "      <td>2011.0</td>\n",
       "      <td>2015.00</td>\n",
       "      <td>2023.0</td>\n",
       "    </tr>\n",
       "    <tr>\n",
       "      <th>Baxışların sayı</th>\n",
       "      <td>10000.0</td>\n",
       "      <td>4328.8188</td>\n",
       "      <td>13383.511716</td>\n",
       "      <td>41.0</td>\n",
       "      <td>408.75</td>\n",
       "      <td>1164.5</td>\n",
       "      <td>3500.25</td>\n",
       "      <td>334547.0</td>\n",
       "    </tr>\n",
       "  </tbody>\n",
       "</table>\n",
       "</div>"
      ],
      "text/plain": [
       "                   count        mean           std     min       25%      50%  \\\n",
       "Avtosalon        10000.0      0.2537      0.435150     0.0      0.00      0.0   \n",
       "Qiymet           10000.0  27318.5214  28995.789851  1100.0  12700.00  21000.0   \n",
       "Buraxılış ili    10000.0   2010.0679      8.386246  1938.0   2006.00   2011.0   \n",
       "Baxışların sayı  10000.0   4328.8188  13383.511716    41.0    408.75   1164.5   \n",
       "\n",
       "                      75%       max  \n",
       "Avtosalon            1.00       1.0  \n",
       "Qiymet           32500.00  850000.0  \n",
       "Buraxılış ili     2015.00    2023.0  \n",
       "Baxışların sayı   3500.25  334547.0  "
      ]
     },
     "execution_count": 43,
     "metadata": {},
     "output_type": "execute_result"
    }
   ],
   "source": [
    "df.describe().T"
   ]
  },
  {
   "cell_type": "markdown",
   "id": "beebbd8c-a54b-4aeb-b892-51c578fbe1a8",
   "metadata": {},
   "source": [
    "# Data PreProcessing"
   ]
  },
  {
   "cell_type": "markdown",
   "id": "8e81cb97-0934-406f-a301-a3b63320129a",
   "metadata": {},
   "source": [
    "## Data Columns Overview"
   ]
  },
  {
   "cell_type": "code",
   "execution_count": 44,
   "id": "33798d14-b497-4d0d-be9c-351bc9f8c7e9",
   "metadata": {},
   "outputs": [
    {
     "data": {
      "text/plain": [
       "array(['2', '1', nan, '0', '3', '4 və daha çox'], dtype=object)"
      ]
     },
     "execution_count": 44,
     "metadata": {},
     "output_type": "execute_result"
    }
   ],
   "source": [
    "df['Sahiblər'].unique()"
   ]
  },
  {
   "cell_type": "code",
   "execution_count": 45,
   "id": "f3a93914-52e0-4c03-a1c2-fdb93067ab59",
   "metadata": {},
   "outputs": [],
   "source": [
    "df.drop(columns = 'Sahiblər', inplace = True)"
   ]
  },
  {
   "cell_type": "code",
   "execution_count": 46,
   "id": "14674e45-e4c3-46d2-9631-ec1d4d92e867",
   "metadata": {},
   "outputs": [
    {
     "data": {
      "text/plain": [
       "array(['Avropa', 'Rəsmi diler', nan, 'Amerika', 'Koreya', 'Rusiya',\n",
       "       'Digər', 'Dubay', 'Yaponiya'], dtype=object)"
      ]
     },
     "execution_count": 46,
     "metadata": {},
     "output_type": "execute_result"
    }
   ],
   "source": [
    "df['Hansı bazar üçün yığılıb'].unique()"
   ]
  },
  {
   "cell_type": "code",
   "execution_count": 47,
   "id": "7569108b-3cae-4846-868a-6e76bc37a301",
   "metadata": {},
   "outputs": [
    {
     "data": {
      "text/plain": [
       "array(['370 000 km', '0 km', '168 636 km', ..., '61 130 km', '299 785 km',\n",
       "       '181 500 km'], dtype=object)"
      ]
     },
     "execution_count": 47,
     "metadata": {},
     "output_type": "execute_result"
    }
   ],
   "source": [
    "df['Yürüş'].unique()"
   ]
  },
  {
   "cell_type": "code",
   "execution_count": 48,
   "id": "f20e2fa6-5728-484c-a984-f9839b381925",
   "metadata": {},
   "outputs": [],
   "source": [
    "def clean_mileage(value):\n",
    "    cleaned_value = value.replace(' km', '').replace(' ', '')\n",
    "    return int(cleaned_value)\n",
    "\n",
    "df['Yürüş'] = df['Yürüş'].apply(clean_mileage)"
   ]
  },
  {
   "cell_type": "code",
   "execution_count": 49,
   "id": "7783e364-b837-484e-919e-47dc84ea0b89",
   "metadata": {},
   "outputs": [],
   "source": [
    "df['Yürüş'] = df['Yürüş'].astype(np.int64)"
   ]
  },
  {
   "cell_type": "code",
   "execution_count": 50,
   "id": "29334411-79aa-4773-a71f-f54fe531b72e",
   "metadata": {},
   "outputs": [],
   "source": [
    "df['Qiymet'] = df['Qiymet'].astype(float)"
   ]
  },
  {
   "cell_type": "code",
   "execution_count": 51,
   "id": "16703c69-031e-4633-bf6c-40056935f5ec",
   "metadata": {},
   "outputs": [],
   "source": [
    "# valyutani azn e cevirir ve buna esasen qiymetleri tenzimleyir\n",
    "df.loc[df['Valyuta']=='USD',['Qiymet']]=df.loc[df['Valyuta']=='USD',['Qiymet']].apply(lambda x:x*1.7)\n",
    "df.loc[df['Valyuta']=='EUR',['Qiymet']]=df.loc[df['Valyuta']=='EUR',['Qiymet']].apply(lambda x:x*1.84)"
   ]
  },
  {
   "cell_type": "code",
   "execution_count": 52,
   "id": "471eaca5-d116-4223-8a85-d11e4805ed9f",
   "metadata": {},
   "outputs": [],
   "source": [
    "df.drop('Valyuta',axis=1,inplace=True)"
   ]
  },
  {
   "cell_type": "code",
   "execution_count": 53,
   "id": "23de130c-f751-4598-82ee-2e204ef66e42",
   "metadata": {},
   "outputs": [
    {
     "data": {
      "text/plain": [
       "array(['5', '7', nan, '4', '3', '2', '8+', '1', '6'], dtype=object)"
      ]
     },
     "execution_count": 53,
     "metadata": {},
     "output_type": "execute_result"
    }
   ],
   "source": [
    " df['Yerlərin sayı'].unique()"
   ]
  },
  {
   "cell_type": "code",
   "execution_count": 54,
   "id": "12c2c346-3b37-4ff9-b711-3da20cf1c183",
   "metadata": {},
   "outputs": [],
   "source": [
    "df['Yerlərin sayı'] = df['Yerlərin sayı'].replace('8+', '8')\n",
    "df['Yerlərin sayı'] = pd.to_numeric(df['Yerlərin sayı'], errors='coerce')"
   ]
  },
  {
   "cell_type": "code",
   "execution_count": 55,
   "id": "a75fb495-05f0-453b-ad92-d45bf3c8dc1a",
   "metadata": {},
   "outputs": [
    {
     "data": {
      "text/plain": [
       "array(['Salam Barter mümkündür. 1.6 sadə mator mexanika Mator karobka və peredok ideal vəziyyətdədir UPC bufer BMW faralar SHMITZER qrusitel. Hamısı zövqlə yığılıb. Çox gözəl görünüşə malikdir. Ən əsası rasxodsuz maşındır. Şəhər içi 8lt trasda 6.5lt benzin sərfiyyatı var Bugünə olan problemi kondisioneri işləmir və maşına bütöv palirovka lazımdır. Hamısı bur yerdə 500azn xərci olar maksimum. Hər şeyi nəzərə alınıb bu qiymətə qoyulub Nömrə nişanı daxil satılır!.!.',\n",
       "       'TOYOTA CAROLLA 2023 ALIŞ. 2 İL 80.000 KM ZƏMANƏT.. BARTER MÜNKÜNDÜR. KREDİT MÜNKÜNDÜR. Əlavə məlumat üçün zəng edin.',\n",
       "       'Yeni gelib bakida surlmuyb qiymet mawin yaninda daliwlacaq  polnu ful en full versiya star stop sdenik qizdirici soyuducu polu luk wuwe tavan tecili satilir may ayin 26 tis gelib',\n",
       "       ...,\n",
       "       'Salam . Masinin ancag yungul kasmetikaya ehdiyaci var basqa hecbir problemi yoxdur zedesiz masindir elave xercleri yaransa men qarsilayacam proberq arginaldir dozumlu masindir android monitoru var tekerleri yenidir muherikin remeni yenilenib qiymetde razilasma olacag tecili satilmalidir muyeyyen sebeblere gore',\n",
       "       'Avtomobil ideal vəziyyətdədir , heç bir problemi yoxdur .Gələndən özümdədir. Avropadan gəlmə maşındır. Xahiş edirəm suda qalmış çürüyü pası olan Tucsonlarla səhv salmayın.Avtomobildə vuruğ udar yoxdur.Alan adam heç bir xərc qoymadan idarə edəcək.',\n",
       "       'Rasxodlar ödənilib'], dtype=object)"
      ]
     },
     "execution_count": 55,
     "metadata": {},
     "output_type": "execute_result"
    }
   ],
   "source": [
    "df['Etrafli'].unique()"
   ]
  },
  {
   "cell_type": "code",
   "execution_count": 56,
   "id": "da39b131-185d-46da-8933-a07b8a1367fd",
   "metadata": {},
   "outputs": [],
   "source": [
    "df.drop(['Etrafli','Yeniləndi','Şəhər','Rəng'], axis = 1, inplace = True)"
   ]
  },
  {
   "cell_type": "markdown",
   "id": "9066273b-eb65-4593-ad18-f0e961179f0f",
   "metadata": {},
   "source": [
    "## Filling of NA"
   ]
  },
  {
   "cell_type": "code",
   "execution_count": 57,
   "id": "541a9cdf-5777-4b33-870a-a68a99cc15c5",
   "metadata": {},
   "outputs": [
    {
     "data": {
      "text/plain": [
       "Avtosalon                      0\n",
       "Qiymet                         0\n",
       "Marka                          0\n",
       "Model                          0\n",
       "Buraxılış ili                  0\n",
       "Ban növü                       0\n",
       "Mühərrik                       0\n",
       "Yürüş                          0\n",
       "Sürətlər qutusu                0\n",
       "Ötürücü                        0\n",
       "Yeni                           0\n",
       "Vəziyyəti                     28\n",
       "Baxışların sayı                0\n",
       "Extra                        764\n",
       "Hansı bazar üçün yığılıb    3298\n",
       "Yerlərin sayı               3168\n",
       "Qəzalı                      9968\n",
       "dtype: int64"
      ]
     },
     "execution_count": 57,
     "metadata": {},
     "output_type": "execute_result"
    }
   ],
   "source": [
    "df.isnull().sum()"
   ]
  },
  {
   "cell_type": "code",
   "execution_count": 58,
   "id": "6d9376b0-1b0a-4763-8233-55ad95890f4e",
   "metadata": {},
   "outputs": [],
   "source": [
    "df.drop(columns = 'Qəzalı', inplace = True)"
   ]
  },
  {
   "cell_type": "code",
   "execution_count": 59,
   "id": "f0861e29-3516-4f4d-81fd-6aaf04973dee",
   "metadata": {},
   "outputs": [
    {
     "name": "stdout",
     "output_type": "stream",
     "text": [
      "Extra sutunun en cox tekrarlanan deyeri: Yüngül lehimli disklər, ABS, Lyuk, Yağış sensoru, Mərkəzi qapanma, Park radarı, Kondisioner, Oturacaqların isidilməsi, Dəri salon, Ksenon lampalar, Arxa görüntü kamerası, Yan pərdələr, Oturacaqların ventilyasiyası\n"
     ]
    }
   ],
   "source": [
    "mode_value = df.Extra.mode().values[0]\n",
    "print(f\"Extra sutunun en cox tekrarlanan deyeri: {mode_value}\")"
   ]
  },
  {
   "cell_type": "code",
   "execution_count": 60,
   "id": "e705114f-3dc3-4e6f-9eec-a3b1d0e65b21",
   "metadata": {},
   "outputs": [],
   "source": [
    "mode_imputer = SimpleImputer(strategy = 'most_frequent')\n",
    "df['Extra'] = mode_imputer.fit_transform(df[['Extra']])[:, 0]\n",
    "\n",
    "assert df.Extra.isna().sum() == 0"
   ]
  },
  {
   "cell_type": "code",
   "execution_count": 61,
   "id": "a6da49f0-fb60-444a-9211-12b6a35a5d0e",
   "metadata": {},
   "outputs": [
    {
     "name": "stdout",
     "output_type": "stream",
     "text": [
      "Vəziyyəti sutunun en cox tekrarlanan deyeri: Vuruğu yoxdur, rənglənməyib\n"
     ]
    }
   ],
   "source": [
    "mode_value = df.Vəziyyəti.mode().values[0]\n",
    "print(f\"Vəziyyəti sutunun en cox tekrarlanan deyeri: {mode_value}\")"
   ]
  },
  {
   "cell_type": "code",
   "execution_count": 62,
   "id": "3fdf27c2-e312-4521-882f-03195705a96e",
   "metadata": {},
   "outputs": [],
   "source": [
    "mode_imputer = SimpleImputer(strategy = 'most_frequent')\n",
    "df['Vəziyyəti'] = mode_imputer.fit_transform(df[['Vəziyyəti']])[:, 0]\n",
    "\n",
    "assert df.Vəziyyəti.isna().sum() == 0"
   ]
  },
  {
   "cell_type": "code",
   "execution_count": 63,
   "id": "1a4bb0db-2164-48b6-aa74-c77f919c4d88",
   "metadata": {},
   "outputs": [
    {
     "name": "stdout",
     "output_type": "stream",
     "text": [
      "Hansı bazar üçün yığılıb sutunun en cox tekrarlanan deyeri: Avropa\n"
     ]
    }
   ],
   "source": [
    "mode_value = df['Hansı bazar üçün yığılıb'].mode().values[0]\n",
    "print(f\"Hansı bazar üçün yığılıb sutunun en cox tekrarlanan deyeri: {mode_value}\")"
   ]
  },
  {
   "cell_type": "code",
   "execution_count": 64,
   "id": "e0e9bc90-6a91-49c8-bada-17dd94671f27",
   "metadata": {},
   "outputs": [],
   "source": [
    "mode_imputer = SimpleImputer(strategy = 'most_frequent')\n",
    "df['Hansı bazar üçün yığılıb'] = mode_imputer.fit_transform(df[['Hansı bazar üçün yığılıb']])[:, 0]\n",
    "\n",
    "assert df['Hansı bazar üçün yığılıb'].isna().sum() == 0"
   ]
  },
  {
   "cell_type": "code",
   "execution_count": 65,
   "id": "efe71b65-212c-4280-ba8b-7ea3d4c8b548",
   "metadata": {},
   "outputs": [
    {
     "name": "stdout",
     "output_type": "stream",
     "text": [
      "Yerlərin sayı sutunun en cox tekrarlanan deyeri: 5.0\n"
     ]
    }
   ],
   "source": [
    "mode_value = df['Yerlərin sayı'].mode().values[0]\n",
    "print(f\"Yerlərin sayı sutunun en cox tekrarlanan deyeri: {mode_value}\")"
   ]
  },
  {
   "cell_type": "code",
   "execution_count": 66,
   "id": "839ab69a-6490-499a-9910-4efaa681d082",
   "metadata": {},
   "outputs": [],
   "source": [
    "mode_imputer = SimpleImputer(strategy = 'most_frequent')\n",
    "df['Yerlərin sayı'] = mode_imputer.fit_transform(df[['Yerlərin sayı']])[:, 0]\n",
    "\n",
    "assert df['Yerlərin sayı'].isna().sum() == 0"
   ]
  },
  {
   "cell_type": "code",
   "execution_count": 68,
   "id": "8326d8e9-08a5-45e0-9b98-cc4fb8a3d793",
   "metadata": {},
   "outputs": [],
   "source": [
    "df['Yerlərin sayı'] = df['Yerlərin sayı'].astype('int')"
   ]
  },
  {
   "cell_type": "code",
   "execution_count": 69,
   "id": "b3857126-384d-49d6-8b6d-7cd41d618720",
   "metadata": {},
   "outputs": [
    {
     "data": {
      "text/plain": [
       "0"
      ]
     },
     "execution_count": 69,
     "metadata": {},
     "output_type": "execute_result"
    }
   ],
   "source": [
    "df.isnull().sum().sum()"
   ]
  },
  {
   "cell_type": "code",
   "execution_count": 70,
   "id": "d3c82fec-ae00-4f4b-a89d-66a27c9f9187",
   "metadata": {},
   "outputs": [
    {
     "data": {
      "text/plain": [
       "0"
      ]
     },
     "execution_count": 70,
     "metadata": {},
     "output_type": "execute_result"
    }
   ],
   "source": [
    "df.duplicated().sum()"
   ]
  },
  {
   "cell_type": "markdown",
   "id": "ea0673e6-b88f-4d66-b211-6d0f85bc7430",
   "metadata": {},
   "source": [
    "## Feature engineering"
   ]
  },
  {
   "cell_type": "code",
   "execution_count": 71,
   "id": "97b8c9ee-c359-4aec-92ac-d73ac96405b7",
   "metadata": {},
   "outputs": [],
   "source": [
    "# extra colundaki en cox tekrarlanan deyeri secir ve  onu vergulnen ayirir \n",
    "extra_col_names= df['Extra'].value_counts().index[0].split(\", \")\n",
    "\n",
    "# yeni yaranan collarda eger split elediklerimiz varsa 1 yazar yoxdusa 0\n",
    "for col in extra_col_names:\n",
    "    df[col] = df['Extra'].apply(lambda x: 1 if col in str(x) else 0)"
   ]
  },
  {
   "cell_type": "code",
   "execution_count": 72,
   "id": "718a5f5f-6ad2-4e80-9a62-6072c513c10f",
   "metadata": {},
   "outputs": [],
   "source": [
    "df.drop('Extra',axis=1,inplace=True)"
   ]
  },
  {
   "cell_type": "code",
   "execution_count": 73,
   "id": "c1307f3e-bada-43a4-9c63-2aaf3e663798",
   "metadata": {},
   "outputs": [
    {
     "data": {
      "text/plain": [
       "Vəziyyəti\n",
       "Vuruğu yoxdur, rənglənməyib    9185\n",
       "Vuruğu yoxdur, rənglənib        696\n",
       "Vuruğu var, rənglənib            73\n",
       "Vuruğu var, rənglənməyib         46\n",
       "Name: count, dtype: int64"
      ]
     },
     "execution_count": 73,
     "metadata": {},
     "output_type": "execute_result"
    }
   ],
   "source": [
    "df['Vəziyyəti'].value_counts()"
   ]
  },
  {
   "cell_type": "code",
   "execution_count": 74,
   "id": "6de895c1-0436-4b05-b784-3bc215961588",
   "metadata": {},
   "outputs": [],
   "source": [
    "df['Vəziyyəti_1'] = df['Vəziyyəti'].apply(lambda x: 1 if 'var' in x else 0)\n",
    "df['Vəziyyəti_2'] = df['Vəziyyəti'].apply(lambda x: 0 if 'məyib' in x else 1)"
   ]
  },
  {
   "cell_type": "code",
   "execution_count": 75,
   "id": "ec2efb03-c9ad-465a-a199-956cd1259c6e",
   "metadata": {},
   "outputs": [],
   "source": [
    "df.drop('Vəziyyəti',axis=1,inplace=True)"
   ]
  },
  {
   "cell_type": "code",
   "execution_count": 76,
   "id": "f462a16a-883a-4f3b-89b4-ad5bd9cd8f2b",
   "metadata": {},
   "outputs": [
    {
     "data": {
      "text/plain": [
       "Mühərrik\n",
       "2.0 L/184 a.g./Dizel      503\n",
       "1.6 L/75 a.g./Benzin      321\n",
       "2.0 L/245 a.g./Benzin     265\n",
       "1.5 L/76 a.g./Hibrid      180\n",
       "1.4 L/90 a.g./Benzin      169\n",
       "                         ... \n",
       "2.5 L/222 a.g./Benzin       1\n",
       "1.6 L/103 a.g./Benzin       1\n",
       "3.6 L/318 a.g./Benzin       1\n",
       "0.0 L/428 a.g./Elektro      1\n",
       "1.5 L/90 a.g./Hibrid        1\n",
       "Name: count, Length: 1307, dtype: int64"
      ]
     },
     "execution_count": 76,
     "metadata": {},
     "output_type": "execute_result"
    }
   ],
   "source": [
    "df['Mühərrik'].value_counts()"
   ]
  },
  {
   "cell_type": "code",
   "execution_count": 77,
   "id": "6bd5c75b-cab3-4768-b78a-b955e361c147",
   "metadata": {},
   "outputs": [],
   "source": [
    "def split_engine(value):\n",
    "    parts = value.split('/')\n",
    "    part1 = parts[0].strip().split()[0] if len(parts) > 0 else None \n",
    "    part2 = parts[1].strip().split()[0] if len(parts) > 1 else None \n",
    "    part3 = parts[2].strip() if len(parts) > 2 else None             \n",
    "    return part1, part2, part3\n",
    "\n",
    "df[['Muherrik_gucu', 'At_gucu', 'Yanacag']] = df['Mühərrik'].apply(split_engine).apply(pd.Series)\n",
    "df['Muherrik_gucu'] = pd.to_numeric(df['Muherrik_gucu'], errors='coerce').astype(np.float64)\n",
    "df['At_gucu'] = pd.to_numeric(df['At_gucu'], errors='coerce').astype(np.int64)"
   ]
  },
  {
   "cell_type": "code",
   "execution_count": 78,
   "id": "a3b47000-2edb-441e-bf8e-dc74001909e9",
   "metadata": {},
   "outputs": [],
   "source": [
    "df.drop('Mühərrik',axis=1,inplace=True)"
   ]
  },
  {
   "cell_type": "code",
   "execution_count": 79,
   "id": "390253bf-fc4e-41d8-883e-3ced7a0b6ee0",
   "metadata": {},
   "outputs": [
    {
     "data": {
      "text/html": [
       "<div>\n",
       "<style scoped>\n",
       "    .dataframe tbody tr th:only-of-type {\n",
       "        vertical-align: middle;\n",
       "    }\n",
       "\n",
       "    .dataframe tbody tr th {\n",
       "        vertical-align: top;\n",
       "    }\n",
       "\n",
       "    .dataframe thead th {\n",
       "        text-align: right;\n",
       "    }\n",
       "</style>\n",
       "<table border=\"1\" class=\"dataframe\">\n",
       "  <thead>\n",
       "    <tr style=\"text-align: right;\">\n",
       "      <th></th>\n",
       "      <th>Avtosalon</th>\n",
       "      <th>Qiymet</th>\n",
       "      <th>Marka</th>\n",
       "      <th>Model</th>\n",
       "      <th>Buraxılış ili</th>\n",
       "      <th>Ban növü</th>\n",
       "      <th>Yürüş</th>\n",
       "      <th>Sürətlər qutusu</th>\n",
       "      <th>Ötürücü</th>\n",
       "      <th>Yeni</th>\n",
       "      <th>...</th>\n",
       "      <th>Dəri salon</th>\n",
       "      <th>Ksenon lampalar</th>\n",
       "      <th>Arxa görüntü kamerası</th>\n",
       "      <th>Yan pərdələr</th>\n",
       "      <th>Oturacaqların ventilyasiyası</th>\n",
       "      <th>Vəziyyəti_1</th>\n",
       "      <th>Vəziyyəti_2</th>\n",
       "      <th>Muherrik_gucu</th>\n",
       "      <th>At_gucu</th>\n",
       "      <th>Yanacag</th>\n",
       "    </tr>\n",
       "  </thead>\n",
       "  <tbody>\n",
       "    <tr>\n",
       "      <th>0</th>\n",
       "      <td>0</td>\n",
       "      <td>13500.0</td>\n",
       "      <td>Opel</td>\n",
       "      <td>Vectra</td>\n",
       "      <td>2000</td>\n",
       "      <td>Hetçbek</td>\n",
       "      <td>370000</td>\n",
       "      <td>Mexaniki</td>\n",
       "      <td>Ön</td>\n",
       "      <td>Xeyr</td>\n",
       "      <td>...</td>\n",
       "      <td>1</td>\n",
       "      <td>1</td>\n",
       "      <td>0</td>\n",
       "      <td>1</td>\n",
       "      <td>0</td>\n",
       "      <td>0</td>\n",
       "      <td>1</td>\n",
       "      <td>1.6</td>\n",
       "      <td>101</td>\n",
       "      <td>Benzin</td>\n",
       "    </tr>\n",
       "    <tr>\n",
       "      <th>1</th>\n",
       "      <td>1</td>\n",
       "      <td>39950.0</td>\n",
       "      <td>Toyota</td>\n",
       "      <td>Corolla</td>\n",
       "      <td>2023</td>\n",
       "      <td>Sedan</td>\n",
       "      <td>0</td>\n",
       "      <td>Avtomat</td>\n",
       "      <td>Ön</td>\n",
       "      <td>Bəli</td>\n",
       "      <td>...</td>\n",
       "      <td>0</td>\n",
       "      <td>1</td>\n",
       "      <td>1</td>\n",
       "      <td>1</td>\n",
       "      <td>1</td>\n",
       "      <td>0</td>\n",
       "      <td>0</td>\n",
       "      <td>1.8</td>\n",
       "      <td>178</td>\n",
       "      <td>Hibrid</td>\n",
       "    </tr>\n",
       "    <tr>\n",
       "      <th>2</th>\n",
       "      <td>0</td>\n",
       "      <td>33200.0</td>\n",
       "      <td>Hyundai</td>\n",
       "      <td>Santa Fe</td>\n",
       "      <td>2013</td>\n",
       "      <td>Offroader / SUV</td>\n",
       "      <td>168636</td>\n",
       "      <td>Avtomat</td>\n",
       "      <td>Ön</td>\n",
       "      <td>Xeyr</td>\n",
       "      <td>...</td>\n",
       "      <td>1</td>\n",
       "      <td>1</td>\n",
       "      <td>1</td>\n",
       "      <td>1</td>\n",
       "      <td>1</td>\n",
       "      <td>0</td>\n",
       "      <td>0</td>\n",
       "      <td>2.0</td>\n",
       "      <td>184</td>\n",
       "      <td>Dizel</td>\n",
       "    </tr>\n",
       "    <tr>\n",
       "      <th>3</th>\n",
       "      <td>0</td>\n",
       "      <td>17000.0</td>\n",
       "      <td>Ford</td>\n",
       "      <td>Fusion</td>\n",
       "      <td>2015</td>\n",
       "      <td>Sedan</td>\n",
       "      <td>120873</td>\n",
       "      <td>Avtomat</td>\n",
       "      <td>Ön</td>\n",
       "      <td>Xeyr</td>\n",
       "      <td>...</td>\n",
       "      <td>0</td>\n",
       "      <td>1</td>\n",
       "      <td>1</td>\n",
       "      <td>1</td>\n",
       "      <td>0</td>\n",
       "      <td>0</td>\n",
       "      <td>0</td>\n",
       "      <td>1.5</td>\n",
       "      <td>181</td>\n",
       "      <td>Benzin</td>\n",
       "    </tr>\n",
       "    <tr>\n",
       "      <th>4</th>\n",
       "      <td>0</td>\n",
       "      <td>61200.0</td>\n",
       "      <td>Toyota</td>\n",
       "      <td>RAV4</td>\n",
       "      <td>2022</td>\n",
       "      <td>Offroader / SUV</td>\n",
       "      <td>0</td>\n",
       "      <td>Avtomat</td>\n",
       "      <td>Ön</td>\n",
       "      <td>Bəli</td>\n",
       "      <td>...</td>\n",
       "      <td>1</td>\n",
       "      <td>1</td>\n",
       "      <td>1</td>\n",
       "      <td>0</td>\n",
       "      <td>0</td>\n",
       "      <td>0</td>\n",
       "      <td>0</td>\n",
       "      <td>2.0</td>\n",
       "      <td>173</td>\n",
       "      <td>Benzin</td>\n",
       "    </tr>\n",
       "  </tbody>\n",
       "</table>\n",
       "<p>5 rows × 31 columns</p>\n",
       "</div>"
      ],
      "text/plain": [
       "   Avtosalon   Qiymet    Marka     Model  Buraxılış ili         Ban növü  \\\n",
       "0          0  13500.0     Opel    Vectra           2000          Hetçbek   \n",
       "1          1  39950.0   Toyota   Corolla           2023            Sedan   \n",
       "2          0  33200.0  Hyundai  Santa Fe           2013  Offroader / SUV   \n",
       "3          0  17000.0     Ford    Fusion           2015            Sedan   \n",
       "4          0  61200.0   Toyota      RAV4           2022  Offroader / SUV   \n",
       "\n",
       "    Yürüş Sürətlər qutusu Ötürücü  Yeni  ...  Dəri salon Ksenon lampalar  \\\n",
       "0  370000        Mexaniki      Ön  Xeyr  ...           1               1   \n",
       "1       0         Avtomat      Ön  Bəli  ...           0               1   \n",
       "2  168636         Avtomat      Ön  Xeyr  ...           1               1   \n",
       "3  120873         Avtomat      Ön  Xeyr  ...           0               1   \n",
       "4       0         Avtomat      Ön  Bəli  ...           1               1   \n",
       "\n",
       "   Arxa görüntü kamerası  Yan pərdələr  Oturacaqların ventilyasiyası  \\\n",
       "0                      0             1                             0   \n",
       "1                      1             1                             1   \n",
       "2                      1             1                             1   \n",
       "3                      1             1                             0   \n",
       "4                      1             0                             0   \n",
       "\n",
       "   Vəziyyəti_1  Vəziyyəti_2  Muherrik_gucu  At_gucu  Yanacag  \n",
       "0            0            1            1.6      101   Benzin  \n",
       "1            0            0            1.8      178   Hibrid  \n",
       "2            0            0            2.0      184    Dizel  \n",
       "3            0            0            1.5      181   Benzin  \n",
       "4            0            0            2.0      173   Benzin  \n",
       "\n",
       "[5 rows x 31 columns]"
      ]
     },
     "execution_count": 79,
     "metadata": {},
     "output_type": "execute_result"
    }
   ],
   "source": [
    "df.head()"
   ]
  },
  {
   "cell_type": "code",
   "execution_count": 80,
   "id": "25cce317-4087-494c-a8bb-21aeb0968b1c",
   "metadata": {},
   "outputs": [
    {
     "name": "stdout",
     "output_type": "stream",
     "text": [
      "<class 'pandas.core.frame.DataFrame'>\n",
      "RangeIndex: 10000 entries, 0 to 9999\n",
      "Data columns (total 31 columns):\n",
      " #   Column                        Non-Null Count  Dtype  \n",
      "---  ------                        --------------  -----  \n",
      " 0   Avtosalon                     10000 non-null  int64  \n",
      " 1   Qiymet                        10000 non-null  float64\n",
      " 2   Marka                         10000 non-null  object \n",
      " 3   Model                         10000 non-null  object \n",
      " 4   Buraxılış ili                 10000 non-null  int64  \n",
      " 5   Ban növü                      10000 non-null  object \n",
      " 6   Yürüş                         10000 non-null  int64  \n",
      " 7   Sürətlər qutusu               10000 non-null  object \n",
      " 8   Ötürücü                       10000 non-null  object \n",
      " 9   Yeni                          10000 non-null  object \n",
      " 10  Baxışların sayı               10000 non-null  int64  \n",
      " 11  Hansı bazar üçün yığılıb      10000 non-null  object \n",
      " 12  Yerlərin sayı                 10000 non-null  int32  \n",
      " 13  Yüngül lehimli disklər        10000 non-null  int64  \n",
      " 14  ABS                           10000 non-null  int64  \n",
      " 15  Lyuk                          10000 non-null  int64  \n",
      " 16  Yağış sensoru                 10000 non-null  int64  \n",
      " 17  Mərkəzi qapanma               10000 non-null  int64  \n",
      " 18  Park radarı                   10000 non-null  int64  \n",
      " 19  Kondisioner                   10000 non-null  int64  \n",
      " 20  Oturacaqların isidilməsi      10000 non-null  int64  \n",
      " 21  Dəri salon                    10000 non-null  int64  \n",
      " 22  Ksenon lampalar               10000 non-null  int64  \n",
      " 23  Arxa görüntü kamerası         10000 non-null  int64  \n",
      " 24  Yan pərdələr                  10000 non-null  int64  \n",
      " 25  Oturacaqların ventilyasiyası  10000 non-null  int64  \n",
      " 26  Vəziyyəti_1                   10000 non-null  int64  \n",
      " 27  Vəziyyəti_2                   10000 non-null  int64  \n",
      " 28  Muherrik_gucu                 10000 non-null  float64\n",
      " 29  At_gucu                       10000 non-null  int64  \n",
      " 30  Yanacag                       10000 non-null  object \n",
      "dtypes: float64(2), int32(1), int64(20), object(8)\n",
      "memory usage: 2.3+ MB\n"
     ]
    }
   ],
   "source": [
    "df.info()"
   ]
  },
  {
   "cell_type": "markdown",
   "id": "46898b1e-d2f7-4ff4-848d-f990d010f3ca",
   "metadata": {},
   "source": [
    "## Outliers"
   ]
  },
  {
   "cell_type": "code",
   "execution_count": 81,
   "id": "dde9662a-9ab4-455c-8618-6b9f332be3a0",
   "metadata": {},
   "outputs": [
    {
     "name": "stdout",
     "output_type": "stream",
     "text": [
      "Avtosalon 0\n",
      "Qiymet 885\n",
      "Buraxılış ili 357\n",
      "Yürüş 274\n",
      "Baxışların sayı 1071\n",
      "Yerlərin sayı 2460\n",
      "Yüngül lehimli disklər 848\n",
      "ABS 774\n",
      "Lyuk 0\n",
      "Yağış sensoru 0\n",
      "Mərkəzi qapanma 900\n",
      "Park radarı 0\n",
      "Kondisioner 901\n",
      "Oturacaqların isidilməsi 0\n",
      "Dəri salon 0\n",
      "Ksenon lampalar 0\n",
      "Arxa görüntü kamerası 0\n",
      "Yan pərdələr 0\n",
      "Oturacaqların ventilyasiyası 0\n",
      "Vəziyyəti_1 119\n",
      "Vəziyyəti_2 769\n",
      "Muherrik_gucu 934\n",
      "At_gucu 510\n"
     ]
    }
   ],
   "source": [
    "for i in df.select_dtypes(include='number').columns:\n",
    "    Q1 = df[i].quantile(0.25)\n",
    "    Q3 = df[i].quantile(0.75)\n",
    "    IQR = Q3 - Q1\n",
    "        \n",
    "    lower_bound = Q1 - 1.5 * IQR\n",
    "    upper_bound = Q3 + 1.5 * IQR\n",
    "\n",
    "    outliers = (df[i] < lower_bound) | (df[i] > upper_bound)\n",
    "    print(i, outliers.sum())"
   ]
  },
  {
   "cell_type": "code",
   "execution_count": 82,
   "id": "f869af20-51ab-40ff-bd8b-c7ae6049d8cf",
   "metadata": {},
   "outputs": [],
   "source": [
    "num_cols = ['Yürüş','Baxışların sayı','Yerlərin sayı','Yüngül lehimli disklər',\n",
    "           'ABS','Mərkəzi qapanma','Kondisioner','Vəziyyəti_1','Vəziyyəti_2','Muherrik_gucu','At_gucu']\n",
    "\n",
    "def fill_outliers(df):\n",
    "    for col in num_cols:\n",
    "        Q1 = df[col].quantile(0.25)\n",
    "        Q3 = df[col].quantile(0.75)\n",
    "        IQR = Q3 - Q1\n",
    "\n",
    "        lower_bound = Q1 - 1.5 * IQR\n",
    "        upper_bound = Q3 + 1.5 * IQR\n",
    "\n",
    "        df[col] = np.where(df[col] < lower_bound, lower_bound, df[col])\n",
    "        df[col] = np.where(df[col] > upper_bound, upper_bound, df[col])\n",
    "    return df\n",
    "\n",
    "\n",
    "df_filled = fill_outliers(df)\n",
    "df = df_filled.copy()"
   ]
  },
  {
   "cell_type": "code",
   "execution_count": 83,
   "id": "662afd52-a4ec-455a-8c5b-aaeeb213c987",
   "metadata": {},
   "outputs": [
    {
     "data": {
      "image/png": "[encoded data removed]",
      "text/plain": [
       "<Figure size 1000x600 with 1 Axes>"
      ]
     },
     "metadata": {},
     "output_type": "display_data"
    },
    {
     "data": {
      "image/png": "[encoded data removed]",
      "text/plain": [
       "<Figure size 1000x600 with 1 Axes>"
      ]
     },
     "metadata": {},
     "output_type": "display_data"
    },
    {
     "data": {
      "image/png": "[encoded data removed]",
      "text/plain": [
       "<Figure size 1000x600 with 1 Axes>"
      ]
     },
     "metadata": {},
     "output_type": "display_data"
    },
    {
     "data": {
      "image/png": "[encoded data removed]",
      "text/plain": [
       "<Figure size 1000x600 with 1 Axes>"
      ]
     },
     "metadata": {},
     "output_type": "display_data"
    },
    {
     "data": {
      "image/png": "[encoded data removed]",
      "text/plain": [
       "<Figure size 1000x600 with 1 Axes>"
      ]
     },
     "metadata": {},
     "output_type": "display_data"
    },
    {
     "data": {
      "image/png": "[encoded data removed]",
      "text/plain": [
       "<Figure size 1000x600 with 1 Axes>"
      ]
     },
     "metadata": {},
     "output_type": "display_data"
    },
    {
     "data": {
      "image/png": "[encoded data removed]",
      "text/plain": [
       "<Figure size 1000x600 with 1 Axes>"
      ]
     },
     "metadata": {},
     "output_type": "display_data"
    },
    {
     "data": {
      "image/png": "[encoded data removed]",
      "text/plain": [
       "<Figure size 1000x600 with 1 Axes>"
      ]
     },
     "metadata": {},
     "output_type": "display_data"
    },
    {
     "data": {
      "image/png": "[encoded data removed]",
      "text/plain": [
       "<Figure size 1000x600 with 1 Axes>"
      ]
     },
     "metadata": {},
     "output_type": "display_data"
    },
    {
     "data": {
      "image/png": "[encoded data removed]",
      "text/plain": [
       "<Figure size 1000x600 with 1 Axes>"
      ]
     },
     "metadata": {},
     "output_type": "display_data"
    },
    {
     "data": {
      "image/png": "[encoded data removed]",
      "text/plain": [
       "<Figure size 1000x600 with 1 Axes>"
      ]
     },
     "metadata": {},
     "output_type": "display_data"
    }
   ],
   "source": [
    "def plot_outliers(df):\n",
    "    for col in num_cols:\n",
    "        plt.figure(figsize=(10, 6))\n",
    "        sns.boxplot(x=df[col])\n",
    "        plt.title(f'Box plot for {col}')\n",
    "        plt.show()\n",
    "\n",
    "plot_outliers(df)"
   ]
  },
  {
   "cell_type": "markdown",
   "id": "e4e5fa1f-467a-471e-a403-3fc0398ca68c",
   "metadata": {},
   "source": [
    "## Scaling"
   ]
  },
  {
   "cell_type": "code",
   "execution_count": 84,
   "id": "178346fe-32ae-409d-bc9d-ca7d4cf51fb2",
   "metadata": {},
   "outputs": [],
   "source": [
    "numeric_data = df.select_dtypes(include=[np.number])\n",
    "\n",
    "scaler = StandardScaler()\n",
    "scaled_data = scaler.fit_transform(numeric_data)"
   ]
  },
  {
   "cell_type": "code",
   "execution_count": null,
   "id": "c1449265-8cb5-419d-9b9d-e0b9e73929ba",
   "metadata": {},
   "outputs": [],
   "source": []
  },
  {
   "cell_type": "code",
   "execution_count": 85,
   "id": "513f0f81-2743-4189-8080-3e84c856f14d",
   "metadata": {},
   "outputs": [],
   "source": [
    "# pca = PCA(n_components=2)\n",
    "# pca_data = pca.fit_transform(scaled_data)\n",
    "\n",
    "# explained_variance = pca.explained_variance_ratio_\n",
    "# print(f\"Explained variance ratio: {explained_variance}\")\n",
    "\n",
    "# pca_df = pd.DataFrame(pca_data, columns=['PC1', 'PC2'])\n",
    "# df = pd.concat([df, pca_df], axis=1)"
   ]
  },
  {
   "cell_type": "code",
   "execution_count": 86,
   "id": "06ac530f-56dc-4e2b-95d3-de7614f4f0be",
   "metadata": {},
   "outputs": [
    {
     "data": {
      "text/html": [
       "<div>\n",
       "<style scoped>\n",
       "    .dataframe tbody tr th:only-of-type {\n",
       "        vertical-align: middle;\n",
       "    }\n",
       "\n",
       "    .dataframe tbody tr th {\n",
       "        vertical-align: top;\n",
       "    }\n",
       "\n",
       "    .dataframe thead th {\n",
       "        text-align: right;\n",
       "    }\n",
       "</style>\n",
       "<table border=\"1\" class=\"dataframe\">\n",
       "  <thead>\n",
       "    <tr style=\"text-align: right;\">\n",
       "      <th></th>\n",
       "      <th>Avtosalon</th>\n",
       "      <th>Qiymet</th>\n",
       "      <th>Marka</th>\n",
       "      <th>Model</th>\n",
       "      <th>Buraxılış ili</th>\n",
       "      <th>Ban növü</th>\n",
       "      <th>Yürüş</th>\n",
       "      <th>Sürətlər qutusu</th>\n",
       "      <th>Ötürücü</th>\n",
       "      <th>Yeni</th>\n",
       "      <th>...</th>\n",
       "      <th>Dəri salon</th>\n",
       "      <th>Ksenon lampalar</th>\n",
       "      <th>Arxa görüntü kamerası</th>\n",
       "      <th>Yan pərdələr</th>\n",
       "      <th>Oturacaqların ventilyasiyası</th>\n",
       "      <th>Vəziyyəti_1</th>\n",
       "      <th>Vəziyyəti_2</th>\n",
       "      <th>Muherrik_gucu</th>\n",
       "      <th>At_gucu</th>\n",
       "      <th>Yanacag</th>\n",
       "    </tr>\n",
       "  </thead>\n",
       "  <tbody>\n",
       "    <tr>\n",
       "      <th>0</th>\n",
       "      <td>0</td>\n",
       "      <td>13500.0</td>\n",
       "      <td>Opel</td>\n",
       "      <td>Vectra</td>\n",
       "      <td>2000</td>\n",
       "      <td>Hetçbek</td>\n",
       "      <td>370000.0</td>\n",
       "      <td>Mexaniki</td>\n",
       "      <td>Ön</td>\n",
       "      <td>Xeyr</td>\n",
       "      <td>...</td>\n",
       "      <td>1</td>\n",
       "      <td>1</td>\n",
       "      <td>0</td>\n",
       "      <td>1</td>\n",
       "      <td>0</td>\n",
       "      <td>0.0</td>\n",
       "      <td>0.0</td>\n",
       "      <td>1.6</td>\n",
       "      <td>101.0</td>\n",
       "      <td>Benzin</td>\n",
       "    </tr>\n",
       "    <tr>\n",
       "      <th>1</th>\n",
       "      <td>1</td>\n",
       "      <td>39950.0</td>\n",
       "      <td>Toyota</td>\n",
       "      <td>Corolla</td>\n",
       "      <td>2023</td>\n",
       "      <td>Sedan</td>\n",
       "      <td>0.0</td>\n",
       "      <td>Avtomat</td>\n",
       "      <td>Ön</td>\n",
       "      <td>Bəli</td>\n",
       "      <td>...</td>\n",
       "      <td>0</td>\n",
       "      <td>1</td>\n",
       "      <td>1</td>\n",
       "      <td>1</td>\n",
       "      <td>1</td>\n",
       "      <td>0.0</td>\n",
       "      <td>0.0</td>\n",
       "      <td>1.8</td>\n",
       "      <td>178.0</td>\n",
       "      <td>Hibrid</td>\n",
       "    </tr>\n",
       "    <tr>\n",
       "      <th>2</th>\n",
       "      <td>0</td>\n",
       "      <td>33200.0</td>\n",
       "      <td>Hyundai</td>\n",
       "      <td>Santa Fe</td>\n",
       "      <td>2013</td>\n",
       "      <td>Offroader / SUV</td>\n",
       "      <td>168636.0</td>\n",
       "      <td>Avtomat</td>\n",
       "      <td>Ön</td>\n",
       "      <td>Xeyr</td>\n",
       "      <td>...</td>\n",
       "      <td>1</td>\n",
       "      <td>1</td>\n",
       "      <td>1</td>\n",
       "      <td>1</td>\n",
       "      <td>1</td>\n",
       "      <td>0.0</td>\n",
       "      <td>0.0</td>\n",
       "      <td>2.0</td>\n",
       "      <td>184.0</td>\n",
       "      <td>Dizel</td>\n",
       "    </tr>\n",
       "    <tr>\n",
       "      <th>3</th>\n",
       "      <td>0</td>\n",
       "      <td>17000.0</td>\n",
       "      <td>Ford</td>\n",
       "      <td>Fusion</td>\n",
       "      <td>2015</td>\n",
       "      <td>Sedan</td>\n",
       "      <td>120873.0</td>\n",
       "      <td>Avtomat</td>\n",
       "      <td>Ön</td>\n",
       "      <td>Xeyr</td>\n",
       "      <td>...</td>\n",
       "      <td>0</td>\n",
       "      <td>1</td>\n",
       "      <td>1</td>\n",
       "      <td>1</td>\n",
       "      <td>0</td>\n",
       "      <td>0.0</td>\n",
       "      <td>0.0</td>\n",
       "      <td>1.5</td>\n",
       "      <td>181.0</td>\n",
       "      <td>Benzin</td>\n",
       "    </tr>\n",
       "    <tr>\n",
       "      <th>4</th>\n",
       "      <td>0</td>\n",
       "      <td>61200.0</td>\n",
       "      <td>Toyota</td>\n",
       "      <td>RAV4</td>\n",
       "      <td>2022</td>\n",
       "      <td>Offroader / SUV</td>\n",
       "      <td>0.0</td>\n",
       "      <td>Avtomat</td>\n",
       "      <td>Ön</td>\n",
       "      <td>Bəli</td>\n",
       "      <td>...</td>\n",
       "      <td>1</td>\n",
       "      <td>1</td>\n",
       "      <td>1</td>\n",
       "      <td>0</td>\n",
       "      <td>0</td>\n",
       "      <td>0.0</td>\n",
       "      <td>0.0</td>\n",
       "      <td>2.0</td>\n",
       "      <td>173.0</td>\n",
       "      <td>Benzin</td>\n",
       "    </tr>\n",
       "  </tbody>\n",
       "</table>\n",
       "<p>5 rows × 31 columns</p>\n",
       "</div>"
      ],
      "text/plain": [
       "   Avtosalon   Qiymet    Marka     Model  Buraxılış ili         Ban növü  \\\n",
       "0          0  13500.0     Opel    Vectra           2000          Hetçbek   \n",
       "1          1  39950.0   Toyota   Corolla           2023            Sedan   \n",
       "2          0  33200.0  Hyundai  Santa Fe           2013  Offroader / SUV   \n",
       "3          0  17000.0     Ford    Fusion           2015            Sedan   \n",
       "4          0  61200.0   Toyota      RAV4           2022  Offroader / SUV   \n",
       "\n",
       "      Yürüş Sürətlər qutusu Ötürücü  Yeni  ...  Dəri salon Ksenon lampalar  \\\n",
       "0  370000.0        Mexaniki      Ön  Xeyr  ...           1               1   \n",
       "1       0.0         Avtomat      Ön  Bəli  ...           0               1   \n",
       "2  168636.0         Avtomat      Ön  Xeyr  ...           1               1   \n",
       "3  120873.0         Avtomat      Ön  Xeyr  ...           0               1   \n",
       "4       0.0         Avtomat      Ön  Bəli  ...           1               1   \n",
       "\n",
       "   Arxa görüntü kamerası  Yan pərdələr  Oturacaqların ventilyasiyası  \\\n",
       "0                      0             1                             0   \n",
       "1                      1             1                             1   \n",
       "2                      1             1                             1   \n",
       "3                      1             1                             0   \n",
       "4                      1             0                             0   \n",
       "\n",
       "   Vəziyyəti_1  Vəziyyəti_2  Muherrik_gucu  At_gucu  Yanacag  \n",
       "0          0.0          0.0            1.6    101.0   Benzin  \n",
       "1          0.0          0.0            1.8    178.0   Hibrid  \n",
       "2          0.0          0.0            2.0    184.0    Dizel  \n",
       "3          0.0          0.0            1.5    181.0   Benzin  \n",
       "4          0.0          0.0            2.0    173.0   Benzin  \n",
       "\n",
       "[5 rows x 31 columns]"
      ]
     },
     "execution_count": 86,
     "metadata": {},
     "output_type": "execute_result"
    }
   ],
   "source": [
    "df.head()"
   ]
  },
  {
   "cell_type": "markdown",
   "id": "e659e0b7-f5b5-496e-a0b3-7ef395e4e20f",
   "metadata": {},
   "source": [
    "## VIF"
   ]
  },
  {
   "cell_type": "code",
   "execution_count": 87,
   "id": "cfdc077b-dafc-4920-aa30-9ea7ad193734",
   "metadata": {},
   "outputs": [],
   "source": [
    "def drop_features_with_high_vif(data_frame = None, vif_threshold = 5):\n",
    "    features = data_frame.select_dtypes(include = 'number').drop(columns = 'Qiymet').columns.tolist()\n",
    "    X = data_frame[features].copy()\n",
    "    imputer = SimpleImputer(strategy = 'median')\n",
    "    X = pd.DataFrame(data = imputer.fit_transform(X = X), columns = features)\n",
    "    \n",
    "    vif_df = pd.DataFrame()\n",
    "    vif_df['feature'] = X.columns\n",
    "    vif_df['vif_value'] = [VIF(exog = X.values, exog_idx = i) for i in range(len(X.columns))]\n",
    "    \n",
    "    features_with_max_vif_value = []\n",
    "    \n",
    "    while vif_df.vif_value.max() > vif_threshold:\n",
    "        feature_with_max_vif_value = vif_df.loc[vif_df.vif_value == vif_df.vif_value.max(), 'feature'].values[0]\n",
    "        features_with_max_vif_value.append(feature_with_max_vif_value)\n",
    "        X.drop(columns = feature_with_max_vif_value, inplace = True)\n",
    "        \n",
    "        vif_df = pd.DataFrame()\n",
    "        vif_df['feature'] = X.columns\n",
    "        vif_df['vif_value'] = [VIF(exog = X.values, exog_idx = i) for i in range(len(X.columns))]\n",
    "    \n",
    "    data_frame.drop(columns = features_with_max_vif_value, inplace = True)\n",
    "    \n",
    "    return data_frame"
   ]
  },
  {
   "cell_type": "code",
   "execution_count": 88,
   "id": "771c117c-c103-42be-affd-4dcd8035201a",
   "metadata": {},
   "outputs": [
    {
     "data": {
      "text/html": [
       "<div>\n",
       "<style scoped>\n",
       "    .dataframe tbody tr th:only-of-type {\n",
       "        vertical-align: middle;\n",
       "    }\n",
       "\n",
       "    .dataframe tbody tr th {\n",
       "        vertical-align: top;\n",
       "    }\n",
       "\n",
       "    .dataframe thead th {\n",
       "        text-align: right;\n",
       "    }\n",
       "</style>\n",
       "<table border=\"1\" class=\"dataframe\">\n",
       "  <thead>\n",
       "    <tr style=\"text-align: right;\">\n",
       "      <th></th>\n",
       "      <th>Avtosalon</th>\n",
       "      <th>Qiymet</th>\n",
       "      <th>Marka</th>\n",
       "      <th>Model</th>\n",
       "      <th>Buraxılış ili</th>\n",
       "      <th>Ban növü</th>\n",
       "      <th>Yürüş</th>\n",
       "      <th>Sürətlər qutusu</th>\n",
       "      <th>Ötürücü</th>\n",
       "      <th>Yeni</th>\n",
       "      <th>...</th>\n",
       "      <th>Dəri salon</th>\n",
       "      <th>Ksenon lampalar</th>\n",
       "      <th>Arxa görüntü kamerası</th>\n",
       "      <th>Yan pərdələr</th>\n",
       "      <th>Oturacaqların ventilyasiyası</th>\n",
       "      <th>Vəziyyəti_1</th>\n",
       "      <th>Vəziyyəti_2</th>\n",
       "      <th>Muherrik_gucu</th>\n",
       "      <th>At_gucu</th>\n",
       "      <th>Yanacag</th>\n",
       "    </tr>\n",
       "  </thead>\n",
       "  <tbody>\n",
       "    <tr>\n",
       "      <th>0</th>\n",
       "      <td>0</td>\n",
       "      <td>13500.0</td>\n",
       "      <td>Opel</td>\n",
       "      <td>Vectra</td>\n",
       "      <td>2000</td>\n",
       "      <td>Hetçbek</td>\n",
       "      <td>370000.0</td>\n",
       "      <td>Mexaniki</td>\n",
       "      <td>Ön</td>\n",
       "      <td>Xeyr</td>\n",
       "      <td>...</td>\n",
       "      <td>1</td>\n",
       "      <td>1</td>\n",
       "      <td>0</td>\n",
       "      <td>1</td>\n",
       "      <td>0</td>\n",
       "      <td>0.0</td>\n",
       "      <td>0.0</td>\n",
       "      <td>1.6</td>\n",
       "      <td>101.0</td>\n",
       "      <td>Benzin</td>\n",
       "    </tr>\n",
       "    <tr>\n",
       "      <th>1</th>\n",
       "      <td>1</td>\n",
       "      <td>39950.0</td>\n",
       "      <td>Toyota</td>\n",
       "      <td>Corolla</td>\n",
       "      <td>2023</td>\n",
       "      <td>Sedan</td>\n",
       "      <td>0.0</td>\n",
       "      <td>Avtomat</td>\n",
       "      <td>Ön</td>\n",
       "      <td>Bəli</td>\n",
       "      <td>...</td>\n",
       "      <td>0</td>\n",
       "      <td>1</td>\n",
       "      <td>1</td>\n",
       "      <td>1</td>\n",
       "      <td>1</td>\n",
       "      <td>0.0</td>\n",
       "      <td>0.0</td>\n",
       "      <td>1.8</td>\n",
       "      <td>178.0</td>\n",
       "      <td>Hibrid</td>\n",
       "    </tr>\n",
       "    <tr>\n",
       "      <th>2</th>\n",
       "      <td>0</td>\n",
       "      <td>33200.0</td>\n",
       "      <td>Hyundai</td>\n",
       "      <td>Santa Fe</td>\n",
       "      <td>2013</td>\n",
       "      <td>Offroader / SUV</td>\n",
       "      <td>168636.0</td>\n",
       "      <td>Avtomat</td>\n",
       "      <td>Ön</td>\n",
       "      <td>Xeyr</td>\n",
       "      <td>...</td>\n",
       "      <td>1</td>\n",
       "      <td>1</td>\n",
       "      <td>1</td>\n",
       "      <td>1</td>\n",
       "      <td>1</td>\n",
       "      <td>0.0</td>\n",
       "      <td>0.0</td>\n",
       "      <td>2.0</td>\n",
       "      <td>184.0</td>\n",
       "      <td>Dizel</td>\n",
       "    </tr>\n",
       "    <tr>\n",
       "      <th>3</th>\n",
       "      <td>0</td>\n",
       "      <td>17000.0</td>\n",
       "      <td>Ford</td>\n",
       "      <td>Fusion</td>\n",
       "      <td>2015</td>\n",
       "      <td>Sedan</td>\n",
       "      <td>120873.0</td>\n",
       "      <td>Avtomat</td>\n",
       "      <td>Ön</td>\n",
       "      <td>Xeyr</td>\n",
       "      <td>...</td>\n",
       "      <td>0</td>\n",
       "      <td>1</td>\n",
       "      <td>1</td>\n",
       "      <td>1</td>\n",
       "      <td>0</td>\n",
       "      <td>0.0</td>\n",
       "      <td>0.0</td>\n",
       "      <td>1.5</td>\n",
       "      <td>181.0</td>\n",
       "      <td>Benzin</td>\n",
       "    </tr>\n",
       "    <tr>\n",
       "      <th>4</th>\n",
       "      <td>0</td>\n",
       "      <td>61200.0</td>\n",
       "      <td>Toyota</td>\n",
       "      <td>RAV4</td>\n",
       "      <td>2022</td>\n",
       "      <td>Offroader / SUV</td>\n",
       "      <td>0.0</td>\n",
       "      <td>Avtomat</td>\n",
       "      <td>Ön</td>\n",
       "      <td>Bəli</td>\n",
       "      <td>...</td>\n",
       "      <td>1</td>\n",
       "      <td>1</td>\n",
       "      <td>1</td>\n",
       "      <td>0</td>\n",
       "      <td>0</td>\n",
       "      <td>0.0</td>\n",
       "      <td>0.0</td>\n",
       "      <td>2.0</td>\n",
       "      <td>173.0</td>\n",
       "      <td>Benzin</td>\n",
       "    </tr>\n",
       "  </tbody>\n",
       "</table>\n",
       "<p>5 rows × 31 columns</p>\n",
       "</div>"
      ],
      "text/plain": [
       "   Avtosalon   Qiymet    Marka     Model  Buraxılış ili         Ban növü  \\\n",
       "0          0  13500.0     Opel    Vectra           2000          Hetçbek   \n",
       "1          1  39950.0   Toyota   Corolla           2023            Sedan   \n",
       "2          0  33200.0  Hyundai  Santa Fe           2013  Offroader / SUV   \n",
       "3          0  17000.0     Ford    Fusion           2015            Sedan   \n",
       "4          0  61200.0   Toyota      RAV4           2022  Offroader / SUV   \n",
       "\n",
       "      Yürüş Sürətlər qutusu Ötürücü  Yeni  ...  Dəri salon Ksenon lampalar  \\\n",
       "0  370000.0        Mexaniki      Ön  Xeyr  ...           1               1   \n",
       "1       0.0         Avtomat      Ön  Bəli  ...           0               1   \n",
       "2  168636.0         Avtomat      Ön  Xeyr  ...           1               1   \n",
       "3  120873.0         Avtomat      Ön  Xeyr  ...           0               1   \n",
       "4       0.0         Avtomat      Ön  Bəli  ...           1               1   \n",
       "\n",
       "   Arxa görüntü kamerası  Yan pərdələr  Oturacaqların ventilyasiyası  \\\n",
       "0                      0             1                             0   \n",
       "1                      1             1                             1   \n",
       "2                      1             1                             1   \n",
       "3                      1             1                             0   \n",
       "4                      1             0                             0   \n",
       "\n",
       "   Vəziyyəti_1  Vəziyyəti_2  Muherrik_gucu  At_gucu  Yanacag  \n",
       "0          0.0          0.0            1.6    101.0   Benzin  \n",
       "1          0.0          0.0            1.8    178.0   Hibrid  \n",
       "2          0.0          0.0            2.0    184.0    Dizel  \n",
       "3          0.0          0.0            1.5    181.0   Benzin  \n",
       "4          0.0          0.0            2.0    173.0   Benzin  \n",
       "\n",
       "[5 rows x 31 columns]"
      ]
     },
     "execution_count": 88,
     "metadata": {},
     "output_type": "execute_result"
    }
   ],
   "source": [
    "df = drop_features_with_high_vif(data_frame = df)\n",
    "df.head()"
   ]
  },
  {
   "cell_type": "markdown",
   "id": "1dfafcc5-0b84-40d3-92a5-16300e1a9905",
   "metadata": {},
   "source": [
    "## Encoding"
   ]
  },
  {
   "cell_type": "code",
   "execution_count": 89,
   "id": "65d35dbd-31bf-40a2-881e-7a786cbc867c",
   "metadata": {},
   "outputs": [],
   "source": [
    "df[['Yeni']] = df[['Yeni']].applymap({'Xeyr': 0, 'Bəli': 1}.get)"
   ]
  },
  {
   "cell_type": "code",
   "execution_count": 90,
   "id": "c0c558d9-f762-46e4-8402-66905a2db2fc",
   "metadata": {},
   "outputs": [],
   "source": [
    "encoder = ce.LeaveOneOutEncoder(cols = ['Marka','Model','Ban növü'], sigma=0.1)\n",
    "df[['Marka','Model','Ban növü']] = encoder.fit_transform(df[['Marka','Model','Ban növü']], df['Qiymet'])"
   ]
  },
  {
   "cell_type": "code",
   "execution_count": 91,
   "id": "1372a1a4-1ec3-4a81-a356-89a6a0ad0201",
   "metadata": {},
   "outputs": [],
   "source": [
    "encoder = OrdinalEncoder(categories=[['Ön', 'Arxa', 'Tam']])\n",
    "df['Ötürücü'] = encoder.fit_transform(df[['Ötürücü']])"
   ]
  },
  {
   "cell_type": "code",
   "execution_count": 92,
   "id": "a8830379-f06b-4937-a19d-813ff6aaaf65",
   "metadata": {},
   "outputs": [],
   "source": [
    "encoder = OrdinalEncoder(categories=[['Mexaniki', 'Avtomat', 'Variator', 'Robotlaşdırılmış']])\n",
    "df['Sürətlər qutusu'] = encoder.fit_transform(df[['Sürətlər qutusu']])"
   ]
  },
  {
   "cell_type": "code",
   "execution_count": 93,
   "id": "4c4d53e0-5151-4a37-9400-88edd69fc73f",
   "metadata": {},
   "outputs": [],
   "source": [
    "encoder = OrdinalEncoder(categories=[['Benzin', 'Dizel', 'Plug-in Hibrid', 'Hibrid', 'Qaz', 'Elektro']])\n",
    "df['Yanacag'] = encoder.fit_transform(df[['Yanacag']])"
   ]
  },
  {
   "cell_type": "code",
   "execution_count": 94,
   "id": "2cf6027f-f907-4682-aa83-6b16ed2edd7a",
   "metadata": {},
   "outputs": [],
   "source": [
    "df = pd.get_dummies(df, columns = ['Hansı bazar üçün yığılıb'])"
   ]
  },
  {
   "cell_type": "code",
   "execution_count": 95,
   "id": "0678a7db-bb88-4131-ae9d-c854b0c39c46",
   "metadata": {},
   "outputs": [
    {
     "data": {
      "text/html": [
       "<div>\n",
       "<style scoped>\n",
       "    .dataframe tbody tr th:only-of-type {\n",
       "        vertical-align: middle;\n",
       "    }\n",
       "\n",
       "    .dataframe tbody tr th {\n",
       "        vertical-align: top;\n",
       "    }\n",
       "\n",
       "    .dataframe thead th {\n",
       "        text-align: right;\n",
       "    }\n",
       "</style>\n",
       "<table border=\"1\" class=\"dataframe\">\n",
       "  <thead>\n",
       "    <tr style=\"text-align: right;\">\n",
       "      <th></th>\n",
       "      <th>Avtosalon</th>\n",
       "      <th>Qiymet</th>\n",
       "      <th>Marka</th>\n",
       "      <th>Model</th>\n",
       "      <th>Buraxılış ili</th>\n",
       "      <th>Ban növü</th>\n",
       "      <th>Yürüş</th>\n",
       "      <th>Sürətlər qutusu</th>\n",
       "      <th>Ötürücü</th>\n",
       "      <th>Yeni</th>\n",
       "      <th>...</th>\n",
       "      <th>At_gucu</th>\n",
       "      <th>Yanacag</th>\n",
       "      <th>Hansı bazar üçün yığılıb_Amerika</th>\n",
       "      <th>Hansı bazar üçün yığılıb_Avropa</th>\n",
       "      <th>Hansı bazar üçün yığılıb_Digər</th>\n",
       "      <th>Hansı bazar üçün yığılıb_Dubay</th>\n",
       "      <th>Hansı bazar üçün yığılıb_Koreya</th>\n",
       "      <th>Hansı bazar üçün yığılıb_Rusiya</th>\n",
       "      <th>Hansı bazar üçün yığılıb_Rəsmi diler</th>\n",
       "      <th>Hansı bazar üçün yığılıb_Yaponiya</th>\n",
       "    </tr>\n",
       "  </thead>\n",
       "  <tbody>\n",
       "    <tr>\n",
       "      <th>0</th>\n",
       "      <td>0</td>\n",
       "      <td>13500.0</td>\n",
       "      <td>10847.417843</td>\n",
       "      <td>5724.416371</td>\n",
       "      <td>2000</td>\n",
       "      <td>15380.489711</td>\n",
       "      <td>370000.0</td>\n",
       "      <td>0.0</td>\n",
       "      <td>0.0</td>\n",
       "      <td>0</td>\n",
       "      <td>...</td>\n",
       "      <td>101.0</td>\n",
       "      <td>0.0</td>\n",
       "      <td>False</td>\n",
       "      <td>True</td>\n",
       "      <td>False</td>\n",
       "      <td>False</td>\n",
       "      <td>False</td>\n",
       "      <td>False</td>\n",
       "      <td>False</td>\n",
       "      <td>False</td>\n",
       "    </tr>\n",
       "    <tr>\n",
       "      <th>1</th>\n",
       "      <td>1</td>\n",
       "      <td>39950.0</td>\n",
       "      <td>49317.802125</td>\n",
       "      <td>22693.929630</td>\n",
       "      <td>2023</td>\n",
       "      <td>27212.235831</td>\n",
       "      <td>0.0</td>\n",
       "      <td>1.0</td>\n",
       "      <td>0.0</td>\n",
       "      <td>1</td>\n",
       "      <td>...</td>\n",
       "      <td>178.0</td>\n",
       "      <td>3.0</td>\n",
       "      <td>False</td>\n",
       "      <td>False</td>\n",
       "      <td>False</td>\n",
       "      <td>False</td>\n",
       "      <td>False</td>\n",
       "      <td>False</td>\n",
       "      <td>True</td>\n",
       "      <td>False</td>\n",
       "    </tr>\n",
       "    <tr>\n",
       "      <th>2</th>\n",
       "      <td>0</td>\n",
       "      <td>33200.0</td>\n",
       "      <td>24097.732343</td>\n",
       "      <td>31778.155977</td>\n",
       "      <td>2013</td>\n",
       "      <td>57599.075642</td>\n",
       "      <td>168636.0</td>\n",
       "      <td>1.0</td>\n",
       "      <td>0.0</td>\n",
       "      <td>0</td>\n",
       "      <td>...</td>\n",
       "      <td>184.0</td>\n",
       "      <td>1.0</td>\n",
       "      <td>False</td>\n",
       "      <td>True</td>\n",
       "      <td>False</td>\n",
       "      <td>False</td>\n",
       "      <td>False</td>\n",
       "      <td>False</td>\n",
       "      <td>False</td>\n",
       "      <td>False</td>\n",
       "    </tr>\n",
       "    <tr>\n",
       "      <th>3</th>\n",
       "      <td>0</td>\n",
       "      <td>17000.0</td>\n",
       "      <td>30092.330854</td>\n",
       "      <td>19439.688713</td>\n",
       "      <td>2015</td>\n",
       "      <td>27800.683990</td>\n",
       "      <td>120873.0</td>\n",
       "      <td>1.0</td>\n",
       "      <td>0.0</td>\n",
       "      <td>0</td>\n",
       "      <td>...</td>\n",
       "      <td>181.0</td>\n",
       "      <td>0.0</td>\n",
       "      <td>False</td>\n",
       "      <td>True</td>\n",
       "      <td>False</td>\n",
       "      <td>False</td>\n",
       "      <td>False</td>\n",
       "      <td>False</td>\n",
       "      <td>False</td>\n",
       "      <td>False</td>\n",
       "    </tr>\n",
       "    <tr>\n",
       "      <th>4</th>\n",
       "      <td>0</td>\n",
       "      <td>61200.0</td>\n",
       "      <td>42619.923789</td>\n",
       "      <td>50033.268167</td>\n",
       "      <td>2022</td>\n",
       "      <td>51822.970359</td>\n",
       "      <td>0.0</td>\n",
       "      <td>1.0</td>\n",
       "      <td>0.0</td>\n",
       "      <td>1</td>\n",
       "      <td>...</td>\n",
       "      <td>173.0</td>\n",
       "      <td>0.0</td>\n",
       "      <td>False</td>\n",
       "      <td>True</td>\n",
       "      <td>False</td>\n",
       "      <td>False</td>\n",
       "      <td>False</td>\n",
       "      <td>False</td>\n",
       "      <td>False</td>\n",
       "      <td>False</td>\n",
       "    </tr>\n",
       "  </tbody>\n",
       "</table>\n",
       "<p>5 rows × 38 columns</p>\n",
       "</div>"
      ],
      "text/plain": [
       "   Avtosalon   Qiymet         Marka         Model  Buraxılış ili  \\\n",
       "0          0  13500.0  10847.417843   5724.416371           2000   \n",
       "1          1  39950.0  49317.802125  22693.929630           2023   \n",
       "2          0  33200.0  24097.732343  31778.155977           2013   \n",
       "3          0  17000.0  30092.330854  19439.688713           2015   \n",
       "4          0  61200.0  42619.923789  50033.268167           2022   \n",
       "\n",
       "       Ban növü     Yürüş  Sürətlər qutusu  Ötürücü  Yeni  ...  At_gucu  \\\n",
       "0  15380.489711  370000.0              0.0      0.0     0  ...    101.0   \n",
       "1  27212.235831       0.0              1.0      0.0     1  ...    178.0   \n",
       "2  57599.075642  168636.0              1.0      0.0     0  ...    184.0   \n",
       "3  27800.683990  120873.0              1.0      0.0     0  ...    181.0   \n",
       "4  51822.970359       0.0              1.0      0.0     1  ...    173.0   \n",
       "\n",
       "   Yanacag  Hansı bazar üçün yığılıb_Amerika  Hansı bazar üçün yığılıb_Avropa  \\\n",
       "0      0.0                             False                             True   \n",
       "1      3.0                             False                            False   \n",
       "2      1.0                             False                             True   \n",
       "3      0.0                             False                             True   \n",
       "4      0.0                             False                             True   \n",
       "\n",
       "   Hansı bazar üçün yığılıb_Digər  Hansı bazar üçün yığılıb_Dubay  \\\n",
       "0                           False                           False   \n",
       "1                           False                           False   \n",
       "2                           False                           False   \n",
       "3                           False                           False   \n",
       "4                           False                           False   \n",
       "\n",
       "   Hansı bazar üçün yığılıb_Koreya  Hansı bazar üçün yığılıb_Rusiya  \\\n",
       "0                            False                            False   \n",
       "1                            False                            False   \n",
       "2                            False                            False   \n",
       "3                            False                            False   \n",
       "4                            False                            False   \n",
       "\n",
       "   Hansı bazar üçün yığılıb_Rəsmi diler  Hansı bazar üçün yığılıb_Yaponiya  \n",
       "0                                 False                              False  \n",
       "1                                  True                              False  \n",
       "2                                 False                              False  \n",
       "3                                 False                              False  \n",
       "4                                 False                              False  \n",
       "\n",
       "[5 rows x 38 columns]"
      ]
     },
     "execution_count": 95,
     "metadata": {},
     "output_type": "execute_result"
    }
   ],
   "source": [
    "df.head()"
   ]
  },
  {
   "cell_type": "markdown",
   "id": "da04db4f-f860-4fd5-a933-4714f5785983",
   "metadata": {},
   "source": [
    "## Feature Selection"
   ]
  },
  {
   "cell_type": "code",
   "execution_count": 96,
   "id": "9b115dbc-f8de-4504-8782-2ddc6d297b9f",
   "metadata": {},
   "outputs": [],
   "source": [
    "X = df.drop(columns =['Qiymet'])\n",
    "y = df['Qiymet']\n",
    "\n",
    "lasso = Lasso(alpha=0.01)\n",
    "lasso.fit(X, y)\n",
    "\n",
    "selected_features_indices = np.where(lasso.coef_ != 0)[0]"
   ]
  },
  {
   "cell_type": "code",
   "execution_count": 97,
   "id": "1330990f-accb-469b-9d8d-9bc780e38c2d",
   "metadata": {},
   "outputs": [
    {
     "data": {
      "text/plain": [
       "array([ 0,  1,  2,  3,  4,  5,  6,  7,  8,  9, 13, 14, 16, 18, 19, 20, 21,\n",
       "       22, 23, 26, 27, 28, 29, 30, 31, 32, 33, 34, 35, 36], dtype=int64)"
      ]
     },
     "execution_count": 97,
     "metadata": {},
     "output_type": "execute_result"
    }
   ],
   "source": [
    "selected_features_indices"
   ]
  },
  {
   "cell_type": "code",
   "execution_count": 98,
   "id": "1e6ed30c-34a7-4245-95a0-56560290e9fb",
   "metadata": {},
   "outputs": [
    {
     "data": {
      "text/plain": [
       "30"
      ]
     },
     "execution_count": 98,
     "metadata": {},
     "output_type": "execute_result"
    }
   ],
   "source": [
    "selected_features = X.columns[selected_features_indices].tolist()\n",
    "len(selected_features)"
   ]
  },
  {
   "cell_type": "markdown",
   "id": "8c023f00-8966-40cd-8807-f1c3ee42168b",
   "metadata": {},
   "source": [
    "## Train Test split"
   ]
  },
  {
   "cell_type": "code",
   "execution_count": 99,
   "id": "14faee8f-3431-4b0f-9280-306d580ddfbd",
   "metadata": {},
   "outputs": [
    {
     "data": {
      "text/plain": [
       "((6700, 30), (6700,), (3300, 30), (3300,))"
      ]
     },
     "execution_count": 99,
     "metadata": {},
     "output_type": "execute_result"
    }
   ],
   "source": [
    "X = df[selected_features]\n",
    "X_train, X_test, y_train, y_test = train_test_split(X, y, test_size=0.33, random_state=42)\n",
    "X_train.shape, y_train.shape, X_test.shape, y_test.shape"
   ]
  },
  {
   "cell_type": "markdown",
   "id": "e7b8ae8c-3b33-4e30-a7a6-01e2db4c2db6",
   "metadata": {},
   "source": [
    "# Model Building"
   ]
  },
  {
   "cell_type": "markdown",
   "id": "f97faeb3-5ccd-4160-b025-83dc56e68c50",
   "metadata": {},
   "source": [
    "## Linear Regression"
   ]
  },
  {
   "cell_type": "code",
   "execution_count": 100,
   "id": "9ca67322-75e2-4535-8e6c-d1af82aacdcf",
   "metadata": {},
   "outputs": [
    {
     "name": "stdout",
     "output_type": "stream",
     "text": [
      "Linear Regression Metrics:\n",
      "MAE: 12465.841999226082\n",
      "MSE: 527060771.9397991\n",
      "RMSE: 22957.80416197941\n",
      "R^2: 0.7646822850837941\n"
     ]
    }
   ],
   "source": [
    "model = LinearRegression()\n",
    "model.fit(X_train, y_train)\n",
    "\n",
    "y_pred = model.predict(X_test)\n",
    "\n",
    "mae = mean_absolute_error(y_test, y_pred)\n",
    "mse = mean_squared_error(y_test, y_pred)\n",
    "rmse = mean_squared_error(y_test, y_pred, squared=False)\n",
    "r2 = r2_score(y_test, y_pred)\n",
    "\n",
    "print(\"Linear Regression Metrics:\")\n",
    "print(\"MAE:\", mae)\n",
    "print(\"MSE:\", mse)\n",
    "print(\"RMSE:\", rmse)\n",
    "print(\"R^2:\", r2)"
   ]
  },
  {
   "cell_type": "markdown",
   "id": "f322005e-92a8-46b1-9c74-67782869b003",
   "metadata": {},
   "source": [
    "## Random Forest"
   ]
  },
  {
   "cell_type": "code",
   "execution_count": 101,
   "id": "c1d00e56-16d3-494b-9222-0a310c35da39",
   "metadata": {},
   "outputs": [
    {
     "name": "stdout",
     "output_type": "stream",
     "text": [
      "Random Forest Regressor Metrics:\n",
      "MAE: 5194.301483272728\n",
      "MSE: 279485303.3571456\n",
      "RMSE: 16717.81395270164\n",
      "R^2: 0.8752177235717742\n"
     ]
    }
   ],
   "source": [
    "model = RandomForestRegressor()\n",
    "model.fit(X_train, y_train)\n",
    "\n",
    "y_pred = model.predict(X_test)\n",
    "\n",
    "mae = mean_absolute_error(y_test, y_pred)\n",
    "mse = mean_squared_error(y_test, y_pred)\n",
    "rmse = mean_squared_error(y_test, y_pred, squared=False)\n",
    "r2 = r2_score(y_test, y_pred)\n",
    "\n",
    "print(\"Random Forest Regressor Metrics:\")\n",
    "print(\"MAE:\", mae)\n",
    "print(\"MSE:\", mse)\n",
    "print(\"RMSE:\", rmse)\n",
    "print(\"R^2:\", r2)"
   ]
  },
  {
   "cell_type": "markdown",
   "id": "a6a2fc2e-c8a5-4449-a46f-760faf0dd51d",
   "metadata": {},
   "source": [
    "## GBR"
   ]
  },
  {
   "cell_type": "code",
   "execution_count": 102,
   "id": "4c6a72f8-14d8-4bb6-9af5-38c735025281",
   "metadata": {},
   "outputs": [
    {
     "name": "stdout",
     "output_type": "stream",
     "text": [
      "Gradient Boosting Regressor Metrics:\n",
      "MAE: 6482.057326154955\n",
      "MSE: 574574723.0277259\n",
      "RMSE: 23970.28833843527\n",
      "R^2: 0.7434686509225927\n"
     ]
    }
   ],
   "source": [
    "model = GradientBoostingRegressor()\n",
    "model.fit(X_train, y_train)\n",
    "\n",
    "y_pred = model.predict(X_test)\n",
    "\n",
    "mae = mean_absolute_error(y_test, y_pred)\n",
    "mse = mean_squared_error(y_test, y_pred)\n",
    "rmse = mean_squared_error(y_test, y_pred, squared=False)\n",
    "r2 = r2_score(y_test, y_pred)\n",
    "\n",
    "print(\"Gradient Boosting Regressor Metrics:\")\n",
    "print(\"MAE:\", mae)\n",
    "print(\"MSE:\", mse)\n",
    "print(\"RMSE:\", rmse)\n",
    "print(\"R^2:\", r2)"
   ]
  },
  {
   "cell_type": "markdown",
   "id": "9f98daf9-b176-4a91-9416-b7cf03984437",
   "metadata": {},
   "source": [
    "# Cross-Validasiya Tetbiqi"
   ]
  },
  {
   "cell_type": "code",
   "execution_count": 103,
   "id": "cb1e0431-09cb-4c7c-bdc4-b163aaa1bb99",
   "metadata": {},
   "outputs": [
    {
     "name": "stdout",
     "output_type": "stream",
     "text": [
      "Random Forest Metrics:\n",
      "  MAE: 5,290.66\n",
      "  MSE: 406,398,174.82\n",
      "  RMSE: 20,159.32\n",
      "  R^2: 0.84\n",
      "\n",
      "Gradient Boosting Metrics:\n",
      "  MAE: 6,336.32\n",
      "  MSE: 488,068,494.79\n",
      "  RMSE: 22,092.27\n",
      "  R^2: 0.81\n",
      "\n"
     ]
    }
   ],
   "source": [
    "kf = KFold(n_splits=5, shuffle=True, random_state=42)\n",
    "\n",
    "rf_model = RandomForestRegressor(random_state=42)\n",
    "gbm_model = GradientBoostingRegressor(random_state=42)\n",
    "\n",
    "rf_predictions = cross_val_predict(rf_model, X, y, cv=kf)\n",
    "rf_mae = mean_absolute_error(y, rf_predictions)\n",
    "rf_mse = mean_squared_error(y, rf_predictions)\n",
    "rf_rmse = np.sqrt(rf_mse)\n",
    "rf_r2 = r2_score(y, rf_predictions)\n",
    "\n",
    "gbm_predictions = cross_val_predict(gbm_model, X, y, cv=kf)\n",
    "gbm_mae = mean_absolute_error(y, gbm_predictions)\n",
    "gbm_mse = mean_squared_error(y, gbm_predictions)\n",
    "gbm_rmse = np.sqrt(gbm_mse)\n",
    "gbm_r2 = r2_score(y, gbm_predictions)\n",
    "\n",
    "def print_metrics(model_name, mae, mse, rmse, r2):\n",
    "    print(f\"{model_name} Metrics:\")\n",
    "    print(f\"  MAE: {mae:,.2f}\")\n",
    "    print(f\"  MSE: {mse:,.2f}\")\n",
    "    print(f\"  RMSE: {rmse:,.2f}\")\n",
    "    print(f\"  R^2: {r2:.2f}\")\n",
    "    print() \n",
    "\n",
    "print_metrics(\"Random Forest\", rf_mae, rf_mse, rf_rmse, rf_r2)\n",
    "print_metrics(\"Gradient Boosting\", gbm_mae, gbm_mse, gbm_rmse, gbm_r2)"
   ]
  },
  {
   "cell_type": "code",
   "execution_count": null,
   "id": "0e27fafb-4372-4b89-a9cf-3dd1cd294ee0",
   "metadata": {},
   "outputs": [],
   "source": []
  }
 ],
 "metadata": {
  "kernelspec": {
   "display_name": "Python 3 (ipykernel)",
   "language": "python",
   "name": "python3"
  },
  "language_info": {
   "codemirror_mode": {
    "name": "ipython",
    "version": 3
   },
   "file_extension": ".py",
   "mimetype": "text/x-python",
   "name": "python",
   "nbconvert_exporter": "python",
   "pygments_lexer": "ipython3",
   "version": "3.12.0"
  }
 },
 "nbformat": 4,
 "nbformat_minor": 5
}
